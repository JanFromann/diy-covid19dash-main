{
 "cells": [
  {
   "cell_type": "markdown",
   "metadata": {},
   "source": [
    "***Cases stacked by UK Nation*** \n",
    "\n",
    "\n",
    "cumAdmissionsByAge\n",
    "\n",
    "cumCasesBySpecimenDate / newCasesBySpecimenDate\n",
    "\n",
    "cumVirusTestsBySpecimenDate\n",
    "\n",
    "hospitalCases\n",
    "\n",
    "newAdmissions\n",
    "\n",
    "newCasesBySpecimenDateAgeDemographics\n",
    "\n",
    "newReinfectionsBySpecimenDate\n",
    "\n",
    "vaccinationsAgeDemographics\n",
    "\n",
    "variants"
   ]
  },
  {
   "cell_type": "code",
   "execution_count": 2,
   "metadata": {},
   "outputs": [],
   "source": [
    "from uk_covid19 import Cov19API\n",
    "import json\n",
    "import pandas as pd\n",
    "import matplotlib.pyplot as plt\n",
    "import ipywidgets as wdg\n",
    "%matplotlib inline\n",
    "plt.rcParams['figure.dpi'] = 100"
   ]
  },
  {
   "cell_type": "code",
   "execution_count": 3,
   "metadata": {},
   "outputs": [],
   "source": [
    "# filters \n",
    "\n",
    "fm_nation_filters_eng = [\n",
    "    'areaType=Nation', \"areaName=England\" # \n",
    "]\n",
    "\n",
    "fm_nation_filters_wales = [\n",
    "    'areaType=Nation', \"areaName=Wales\" # \n",
    "]\n",
    "\n",
    "fm_nation_filters_scot = [\n",
    "    'areaType=Nation', \"areaName=Scotland\" # \n",
    "]\n",
    "\n",
    "fm_nation_filters_northi = [\n",
    "    'areaType=Nation', \"areaName=Northern Ireland\" # \n",
    "]"
   ]
  },
  {
   "cell_type": "code",
   "execution_count": 4,
   "metadata": {},
   "outputs": [],
   "source": [
    "# structure\n",
    "\n",
    "fm_nation_structure = {\n",
    "    \"date\": \"date\",\n",
    "    \"areaName\": \"areaName\",\n",
    "    \"femaleCases\": \"femaleCases\",\n",
    "    \"maleCases\":\"maleCases\",\n",
    "}"
   ]
  },
  {
   "cell_type": "code",
   "execution_count": 5,
   "metadata": {},
   "outputs": [],
   "source": [
    "fm_nation_api_eng = Cov19API(filters=fm_nation_filters_eng, structure=fm_nation_structure)\n",
    "fm_nation_data_eng = fm_nation_api_eng.get_json()\n",
    "fm_nation_data_lst_eng = fm_nation_data_eng[\"data\"]\n",
    "\n",
    "fm_nation_api_scot = Cov19API(filters=fm_nation_filters_scot, structure=fm_nation_structure)\n",
    "fm_nation_data_scot = fm_nation_api_scot.get_json()\n",
    "fm_nation_data_lst_scot = fm_nation_data_scot[\"data\"]\n",
    "\n",
    "fm_nation_api_wales = Cov19API(filters=fm_nation_filters_wales, structure=fm_nation_structure)\n",
    "fm_nation_data_wales = fm_nation_api_wales.get_json()\n",
    "fm_nation_data_lst_wales = fm_nation_data_wales[\"data\"]\n",
    "\n",
    "fm_nation_api_northi = Cov19API(filters=fm_nation_filters_northi, structure=fm_nation_structure)\n",
    "fm_nation_data_northi = fm_nation_api_northi.get_json()\n",
    "fm_nation_data_lst_northi = fm_nation_data_northi[\"data\"]\n"
   ]
  },
  {
   "cell_type": "code",
   "execution_count": 6,
   "metadata": {},
   "outputs": [],
   "source": [
    "#print(fm_nation_data_lst_eng)\n",
    "\n",
    "\n",
    "fm_nation_data_lst = fm_nation_data_lst_eng + fm_nation_data_lst_scot + fm_nation_data_lst_wales + fm_nation_data_lst_northi\n",
    "#print(fm_nation_data_lst)\n",
    "\n",
    "with open('fm_nation_data_lst.json', \"wt\") as OUTF:\n",
    "    json.dump(fm_nation_data_lst, OUTF)\n",
    "\n",
    "    "
   ]
  }
 ],
 "metadata": {
  "kernelspec": {
   "display_name": "Python 3.9.12 ('base')",
   "language": "python",
   "name": "python3"
  },
  "language_info": {
   "codemirror_mode": {
    "name": "ipython",
    "version": 3
   },
   "file_extension": ".py",
   "mimetype": "text/x-python",
   "name": "python",
   "nbconvert_exporter": "python",
   "pygments_lexer": "ipython3",
   "version": "3.9.12"
  },
  "orig_nbformat": 4,
  "vscode": {
   "interpreter": {
    "hash": "c6609c9133a6db690f016f49050ce97a9a809177a34a79c19b62b14f5faf7a07"
   }
  }
 },
 "nbformat": 4,
 "nbformat_minor": 2
}
