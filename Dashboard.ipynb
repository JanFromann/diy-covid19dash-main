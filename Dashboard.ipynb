{
 "cells": [
  {
   "cell_type": "markdown",
   "metadata": {},
   "source": [
    "[DIY Covid-19 Dashboard Kit](https://github.com/fsmeraldi/diy-covid19dash) (C) Fabrizio Smeraldi, 2020 ([f.smeraldi@qmul.ac.uk](mailto:f.smeraldi@qmul.ac.uk) - [web](http://www.eecs.qmul.ac.uk/~fabri/)). All rights reserved."
   ]
  },
  {
   "cell_type": "markdown",
   "metadata": {},
   "source": [
    "# DIY Covid-19 Dashboard"
   ]
  },
  {
   "cell_type": "markdown",
   "metadata": {},
   "source": [
    "This is a template for your DIY Covid Dashboard, to which you can add the code you developed in the previous notebooks. The dashboard will be displayed using [voila](https://voila.readthedocs.io/en/stable/index.html), a Python dashboarding tool that converts notebooks to standalone dashboards. Contrary to the other libraries we have seen, the ```voila``` package must be installed using *pip* or *conda* but it does not need to be imported - it rather acts at the level of the notebook server. Package ```voila``` is already installed on the EECS JupyterHub as well as in the binder - to install it locally, follow the [instructions](https://voila.readthedocs.io/en/stable/install.html) online.\n",
    "\n",
    "Broadly speaking, Voila acts by **running all the cells in your notebook** when the dashboard is first loaded; it then hides all code cells and displays all markdown cells and any outputs, including widgets. However, the code is still there in the background and handles any interaction with the widgets. To view this dashboard template rendered in Voila click [here](https://mybinder.org/v2/gh/fsmeraldi/diy-covid19dash/main?urlpath=%2Fvoila%2Frender%2FDashboard.ipynb)."
   ]
  },
  {
   "cell_type": "code",
   "execution_count": 8,
   "metadata": {},
   "outputs": [],
   "source": [
    "from IPython.display import clear_output\n",
    "import ipywidgets as wdg\n",
    "import pandas as pd\n",
    "import numpy as np\n",
    "import matplotlib.pyplot as plt\n",
    "import json\n",
    "from uk_covid19 import Cov19API"
   ]
  },
  {
   "cell_type": "code",
   "execution_count": 9,
   "metadata": {},
   "outputs": [],
   "source": [
    "%matplotlib inline\n",
    "# make figures larger\n",
    "plt.rcParams['figure.dpi'] = 100"
   ]
  },
  {
   "cell_type": "markdown",
   "metadata": {},
   "source": [
    "## Load initial data from disk\n",
    "\n",
    "You should include \"canned\" data in ```.json``` files along with your dashboard. When the dashboard starts, it should load that data (the code below will be hidden when the dashboard is rendered by Voila)."
   ]
  },
  {
   "cell_type": "code",
   "execution_count": 10,
   "metadata": {},
   "outputs": [],
   "source": [
    "# Load JSON files and store the raw data in some variable. Edit as appropriate\n",
    "jsondata={}\n",
    "\n",
    "### pcr_comp json load ###\n",
    "\n",
    "with open(\"pcr_comp.json\", \"rt\") as INFILE:\n",
    "    pcr_data = json.load(INFILE)\n",
    "\n",
    "### vax_occ json load ###\n",
    "\n",
    "with open(\"sick_vax.json\", \"rt\") as INFILE:\n",
    "    sick_vax_data = json.load(INFILE)\n",
    "\n",
    "### cas_nation json load ###\n",
    "\n",
    "with open(\"cas_nation_data_lst.json\", \"rt\") as INFILE:\n",
    "    cas_nat_data = json.load(INFILE)\n",
    "\n",
    "\n",
    "### death_gender_age load ###\n",
    "\n",
    "with open(\"death_data.json\", \"rt\") as INFILE:\n",
    "    death_data = json.load(INFILE)\n",
    "\n",
    "with open(\"sex_data.json\", \"rt\") as INFILE:\n",
    "    sex_data = json.load(INFILE)  "
   ]
  },
  {
   "cell_type": "markdown",
   "metadata": {},
   "source": [
    "## Wrangle the data\n",
    "\n",
    "The dashboard should contain the logic to wrangle the raw data into a ```DataFrame``` (or more than one, as required) that will be used for plotting. The wrangling code should be put into a function and called on the data from the JSON file (we'll need to call it again on any data downloaded from the API).  In this template, we just pretend we are wrangling ```rawdata``` and generate a dataframe with some random data"
   ]
  },
  {
   "cell_type": "code",
   "execution_count": 11,
   "metadata": {},
   "outputs": [],
   "source": [
    "\n",
    "\n",
    "def wrangle_data(rawdata):\n",
    "    \"\"\" Parameters: rawdata - data from json file or API call. Returns a dataframe.\n",
    "    Edit to include the code that wrangles the data, creates the dataframe and fills it in. \"\"\"\n",
    "    df=pd.DataFrame(index=range(0,100), columns=['One', 'Two'])\n",
    "    # we have no real data to wrangle, so we just generate two random walks.\n",
    "    one=two=0.0\n",
    "    for i in range(0,100):\n",
    "        df.loc[i,'One']=one\n",
    "        df.loc[i,'Two']=two\n",
    "        one+=np.random.randn()\n",
    "        two+=2*np.random.randn()\n",
    "    return df\n",
    "\n",
    "# putting the wrangling code into a function allows you to call it again after refreshing the data through \n",
    "# the API. You should call the function directly on the JSON data when the dashboard starts, by including \n",
    "# the call in the cell as below:\n",
    "df=wrangle_data(jsondata) # df is the dataframe for plotting\n",
    "\n",
    "### Pre-requisite Functions ###\n",
    "\n",
    "#function to get the panda of a datestring\n",
    "\n",
    "def parse_date(datestring):\n",
    "    \"\"\" Convert a date string into a pandas datetime object \"\"\"\n",
    "    return pd.to_datetime(datestring, format=\"%Y-%m-%d\")\n",
    "\n",
    "\n",
    "### Wrangling the Data via Functions for each Graph ###\n",
    "\n",
    "### pcr_comp Data Wrangling ###\n",
    "\n",
    "def pcr_comp_wrangle(rawdata):\n",
    "    pcr_data = rawdata\n",
    "    \n",
    "    pcr_data_list = pcr_data[\"data\"]    # gettin the data into a list\n",
    "\n",
    "    pcr_dates = [dic[\"date\"] for dic in pcr_data_list] # getting the dates\n",
    "    pcr_dates.sort()    # sorting the dates\n",
    "\n",
    "     \n",
    "    pcr_startdate = parse_date(pcr_dates[0])    # getting the startdate\n",
    "    pcr_enddate = parse_date(pcr_dates[-1])     # getting the endddate\n",
    "\n",
    "    pcr_index = pd.date_range(pcr_startdate, pcr_enddate, freq='D')     # getting the index for the dataframe\n",
    "\n",
    "\n",
    "    pcr_comp_df = pd.DataFrame(index=pcr_index, columns=[\"newPCR\", \"plannedPCR\"])   # creating the dataframe\n",
    "\n",
    "    # filling the the dataframe\n",
    "\n",
    "    for entry in pcr_data_list:\n",
    "\n",
    "        date = parse_date(entry[\"date\"])\n",
    "\n",
    "        for column in [\"newPCR\", \"plannedPCR\"]:     # learning: make sure you have the same column name for the data frame and the list / json file\n",
    "\n",
    "         if pd.isna(pcr_comp_df.loc[date, column]):\n",
    "\n",
    "            value = float(entry[column]) if entry[column] !=None else 0.0\n",
    "\n",
    "            pcr_comp_df.loc[date, column] = value\n",
    "\n",
    "    pcr_comp_df.fillna(0.0, inplace=True)   \n",
    "    return pcr_comp_df\n",
    "\n",
    "\n",
    "pcr_comp_df = pcr_comp_wrangle(pcr_data) # mangling the data initally when loading \n",
    "\n",
    "\n",
    "###\n",
    "\n",
    "\n",
    "### vax_occ Data Wrangling ###\n",
    "\n",
    "def vax_occ_wrangle(rawdata):\n",
    "\n",
    "    sick_vax_data = rawdata\n",
    "    sick_vax_datalist = sick_vax_data[\"data\"]   # getting the data list\n",
    "\n",
    "\n",
    "    sick_vax_dates = [dictionary[\"date\"] for dictionary in sick_vax_datalist]       # getting start and end dates\n",
    "    sick_vax_dates.sort()\n",
    "\n",
    "    sick_vax_startdate = parse_date(sick_vax_dates[0])  \n",
    "    sick_vax_enddate = parse_date(sick_vax_dates[-1])\n",
    "\n",
    "    sick_vax_index = pd.date_range(sick_vax_startdate, sick_vax_enddate, freq='D')      # creating the index based on dates\n",
    "\n",
    "    sick_vax_df = pd.DataFrame(index=sick_vax_index, columns=[\"cumAdmin\", \"occMVBeds\", \"cumVax1\", \"cumVax2\", \"cumVax3\"])    # creating the data frame\n",
    "\n",
    "    #   fillinf the data frame\n",
    "\n",
    "    for entry in sick_vax_datalist:\n",
    "\n",
    "     date = parse_date(entry[\"date\"])\n",
    "\n",
    "     for column in [\"cumAdmin\", \"occMVBeds\", \"cumVax1\", \"cumVax2\", \"cumVax3\"]: \n",
    "\n",
    "            if pd.isna(sick_vax_df.loc[date, column]):\n",
    "\n",
    "              value = float(entry[column]) if entry[column] !=None else 0.0\n",
    "\n",
    "              sick_vax_df.loc[date, column] = value\n",
    "\n",
    "    sick_vax_df.fillna(0.0, inplace=True)\n",
    "    return sick_vax_df\n",
    "\n",
    "sick_vax_df = vax_occ_wrangle(sick_vax_data)    # mangling the data initially when loading\n",
    "\n",
    "### \n",
    "\n",
    "\n",
    "\n",
    "### cas_nation Data Wrangling ###\n",
    "\n",
    "\n",
    "\n",
    "### death_gender_age load ###\n"
   ]
  },
  {
   "cell_type": "markdown",
   "metadata": {},
   "source": [
    "## Download current data"
   ]
  },
  {
   "cell_type": "markdown",
   "metadata": {},
   "source": [
    "Give your users an option to refresh the dataset - a \"refresh\" button will do. The button callback should\n",
    "* call the code that accesses the API and download some fresh raw data;\n",
    "* wrangle that data into a dataframe and update the corresponding (global) variable for plotting;\n",
    "* optionally: force a redraw of the graph and give the user some fredback.\n",
    "\n",
    "Once you get it to work, you may want to wrap your API call inside an exception handler, so that the user is informed, the \"canned\" data are not overwritten and nothing crashes if for any reason the server cannot be reached or data are not available.\n",
    "\n",
    "After you refresh the data, graphs will not update until the user interacts with a widget. You can trick ```iPywidgets``` into redrawing the graph by simulating interaction, as in the ```refresh_graph``` function we define in the Graph and Analysis section below.\n",
    "\n",
    "Clicking on the button below just generates some more random data and refreshes the graph. The button should read *Fetch Data*. If you see anything else, take a deep breath :)"
   ]
  },
  {
   "cell_type": "code",
   "execution_count": 12,
   "metadata": {},
   "outputs": [],
   "source": [
    "# Place your API access code in this function. Do not call this function directly; it will be called by \n",
    "# the button callback. \n",
    "def access_api():\n",
    "    \"\"\" Accesses the PHE API. Returns raw data in the same format as data loaded from the \"canned\" JSON file. \"\"\"\n",
    "\n",
    "    ### calling the pcr_comp data ###\n",
    "\n",
    "    filters_pcr_comp = ['areaType=overview']    # creating filter \n",
    "    structure_pcr_comp = {\"date\": \"date\", \"newPCR\": \"newPCRTestsByPublishDate\", \"plannedPCR\": \"plannedPCRCapacityByPublishDate\",}   # creating structure\n",
    "\n",
    "    api_pcr_comp = Cov19API(filters=filters_pcr_comp, structure=structure_pcr_comp)     # calling the API with the filters & structures\n",
    "    pcr_comp_data = api_pcr_comp.get_json()     # getting the json data into a variable\n",
    "\n",
    "    ### calling the vax_occ data ###\n",
    "\n",
    "    sick_vax_filters = ['areaType=overview'] # note each metric-value pair is inside one string\n",
    "    sick_vax_structure = {\n",
    "        \"date\": \"date\",\n",
    "        \"cumAdmin\":\"cumAdmissions\",\n",
    "        \"occMVBeds\": \"covidOccupiedMVBeds\",\n",
    "        \"cumVax1\": \"cumPeopleVaccinatedFirstDoseByPublishDate\",\n",
    "        \"cumVax2\": \"cumPeopleVaccinatedSecondDoseByPublishDate\",\n",
    "        \"cumVax3\": \"cumPeopleVaccinatedThirdInjectionByPublishDate\",\n",
    "    }\n",
    "\n",
    "    sick_vax_api = Cov19API(filters=sick_vax_filters, structure=sick_vax_structure)\n",
    "    sick_vax_data = sick_vax_api.get_json()\n",
    "\n",
    "    return {'pcrcompdata' : pcr_comp_data, 'vaxoccdata' : sick_vax_data} # return data read from the API as a dictionary to make it easy to call the right data later on"
   ]
  },
  {
   "cell_type": "code",
   "execution_count": 13,
   "metadata": {},
   "outputs": [
    {
     "data": {
      "application/vnd.jupyter.widget-view+json": {
       "model_id": "95668432eeb24b9cbee8526af7e75ac4",
       "version_major": 2,
       "version_minor": 0
      },
      "text/plain": [
       "Button(button_style='info', description='Refresh Data', icon='download', style=ButtonStyle(), tooltip='Click r…"
      ]
     },
     "metadata": {},
     "output_type": "display_data"
    }
   ],
   "source": [
    "# Printout from this function will be lost in Voila unless captured in an\n",
    "# output widget - therefore, we give feedback to the user by changing the \n",
    "# appearance of the button\n",
    "def api_button_callback(button):\n",
    "    \"\"\" Button callback - it must take the button as its parameter (unused in this case).\n",
    "    Accesses API, wrangles data, updates global variable df used for plotting. \"\"\"\n",
    "    # Get fresh data from the API. If you have time, include some error handling\n",
    "    # around this call.\n",
    "\n",
    "    try:\n",
    "        apidata=access_api()\n",
    "    except ConnectionError as ConnectionErr:\n",
    "        print(\"We could not connect wit the publicly hosted database because the internet connection broke off. Your last refreshed data is still available and has not been overwritten\")\n",
    "\n",
    "    # wrangle the data and overwrite the dataframe for plotting\n",
    "\n",
    "    # for pcr_comp\n",
    "    global pcr_comp_df\n",
    "    pcr_comp_df=pcr_comp_wrangle(apidata['pcrcompdata'])\n",
    "\n",
    "    # for vaxx occ\n",
    "\n",
    "    global sick_vax_df\n",
    "    sick_vax_df = vax_occ_wrangle(apidata['vaxoccdata'])\n",
    "\n",
    "\n",
    "\n",
    "    # the graph won't refresh until the user interacts with the widget.\n",
    "    # this function simulates the interaction, see Graph and Analysis below.\n",
    "    # you can omit this step in the first instance\n",
    "    refresh_graph()\n",
    "    # after all is done, you can switch the icon on the button to a \"check\" sign\n",
    "    # and optionally disable the button - it won't be needed again. You can use icons\n",
    "    # \"unlink\" or \"times\" and change the button text to \"Unavailable\" in case the \n",
    "    # api call fails.\n",
    "    apibutton.icon=\"check\"\n",
    "    # apibutton.disabled=True\n",
    "\n",
    "    \n",
    "apibutton=wdg.Button(\n",
    "    description='Refresh Data', # you may want to change this...\n",
    "    disabled=False,\n",
    "    button_style='info', # 'success', 'info', 'warning', 'danger' or ''\n",
    "    tooltip=\"Click ro refresh data\",\n",
    "    # FontAwesome names without the `fa-` prefix - try \"download\"\n",
    "    icon='download'\n",
    ")\n",
    "\n",
    "# remember to register your button callback function with the button\n",
    "apibutton.on_click(api_button_callback) # the name of your function inside these brackets\n",
    "\n",
    "display(apibutton)\n",
    "\n",
    "# run all cells before clicking on this button"
   ]
  },
  {
   "cell_type": "markdown",
   "metadata": {},
   "source": [
    "## Graphs and Analysis"
   ]
  },
  {
   "cell_type": "markdown",
   "metadata": {},
   "source": [
    "Include at least one graph with interactive controls, as well as some instructions for the user and/or comments on what the graph represents and how it should be explored (this example shows two random walks)"
   ]
  },
  {
   "cell_type": "code",
   "execution_count": null,
   "metadata": {},
   "outputs": [],
   "source": []
  },
  {
   "cell_type": "code",
   "execution_count": 14,
   "metadata": {},
   "outputs": [
    {
     "data": {
      "application/vnd.jupyter.widget-view+json": {
       "model_id": "55a3b5a5cac84081a65b269f26902de5",
       "version_major": 2,
       "version_minor": 0
      },
      "text/plain": [
       "SelectMultiple(description='Categories', index=(0, 1), options=('newPCR', 'plannedPCR'), rows=2, value=('newPC…"
      ]
     },
     "metadata": {},
     "output_type": "display_data"
    },
    {
     "data": {
      "application/vnd.jupyter.widget-view+json": {
       "model_id": "4d48dadadd5d420cb47fa9a7dab858a9",
       "version_major": 2,
       "version_minor": 0
      },
      "text/plain": [
       "Output()"
      ]
     },
     "metadata": {},
     "output_type": "display_data"
    }
   ],
   "source": [
    "### having seperate code boxed to plot charts individually? and provide descriptions? probably better\n",
    "\n",
    "\n",
    "\n",
    "### pcr_comp plotting ###\n",
    "pcr_cols=wdg.SelectMultiple(\n",
    "    options=['newPCR', 'plannedPCR'], # could add \"delta\" later\n",
    "    value=['newPCR', 'plannedPCR'], # initial value\n",
    "    rows=2, # rows of the selection box\n",
    "    description='Categories',\n",
    "    disabled=False\n",
    ")\n",
    "\n",
    "\n",
    "def pcr_comp_graph(graphcolumns):\n",
    "    # our callback function.\n",
    "    ncols=len(graphcolumns)\n",
    "    if ncols>0:\n",
    "        pcr_comp_df.plot(kind='line', y=list(graphcolumns)) # graphcolumns is a tuple - we need a list\n",
    "        plt.show() # important - graphs won't update properly if this is missing\n",
    "    else:\n",
    "        # if the user has not selected any column, print a message instead\n",
    "        print(\"Click to select data for graph\")\n",
    "        print(\"(CTRL-Click to select more than one category)\")\n",
    "    \n",
    "# keep calling age_graph(graphcolumns=value_of_agecols); capture output in widget output    \n",
    "\n",
    "## vax_occ plotting ###\n",
    "\n",
    "vaxcols=wdg.SelectMultiple(\n",
    "    options=['cumVax1', 'cumVax2', 'cumVax3'], \n",
    "    value=['cumVax1', 'cumVax2', \"cumVax3\"],\n",
    "    rows=3, \n",
    "    description='Vaccines',\n",
    "    disabled=False\n",
    ")\n",
    "\n",
    "occcols=wdg.SelectMultiple(     # turn this into radio to make clear multi select doesn work? Can multi select work?\n",
    "    options=['occMVBeds', \"cumAdmin\"], \n",
    "    value=['occMVBeds', \"cumAdmin\" ], \n",
    "    rows=2, \n",
    "    description='Sick Metrics',\n",
    "    disabled=False\n",
    ")\n",
    "\n",
    "\n",
    "vax_occ_scale=wdg.RadioButtons(\n",
    "    options=['linear', 'log'],\n",
    "#    value='pineapple', # Defaults to 'pineapple'\n",
    "#    layout={'width': 'max-content'}, # If the items' names are long\n",
    "    description='Scale:',\n",
    "    disabled=False\n",
    ")\n",
    "\n",
    "controls=wdg.HBox([vaxcols, occcols, vax_occ_scale])\n",
    "\n",
    "def vax_occ_graph(graphcolumns, ycolumns, gscale):   # check here which values we should name / does it matter?\n",
    "    \n",
    "    ncols=len(graphcolumns)\n",
    "    print(occcols.value)\n",
    "    if gscale=='linear':    # controlling for the liner/log scale\n",
    "        logscale=False\n",
    "    else:\n",
    "        logscale=True\n",
    "\n",
    "    if occcols.value == (\"occMVBeds\",):   # why does this work only this way while got gscale, etc. the string works? !!!!\n",
    "        yaxis_state = \"occMVBeds\"\n",
    "        yaxis_desc = \"Cummulative Admissions\"\n",
    "    else:                                           # controlling for the secondary y axis\n",
    "        yaxis_state = \"cumAdmin\"\n",
    "        yaxis_desc = \"MV Bed Occupancy\"\n",
    "\n",
    "\n",
    "    if ncols>0:\n",
    "        print(yaxis_state)\n",
    "        sick_vax_df.plot( y=list(graphcolumns), logy=logscale, use_index=True) \n",
    "        ax = sick_vax_df[yaxis_state].plot(secondary_y=True, logy=logscale, color='k')  # plotting a secondary y axis to plot data at different dimensions\n",
    "        ax.set_ylabel(yaxis_desc)\n",
    "        plt.show() \n",
    "    \n",
    "    else:\n",
    "        # if the user has not selected any column, print a message instead\n",
    "        print(\"Click to select data for graph\")\n",
    "        print(\"(CTRL-Click to select more than one category)\")\n",
    "    \n",
    "# keep calling age_graph(graphcolumns=value_of_agecols); capture output in widget output    \n",
    "graph_vax_occ=wdg.interactive_output(vax_occ_graph, {'graphcolumns': vaxcols, \"ycolumns\" : occcols, \"gscale\":vax_occ_scale})\n",
    "#output2=wdg.interactive_output(age_graph, {'graphcolumns': occcols})\n",
    "\n",
    "display(controls, graph_vax_occ) \n",
    "\n",
    "\n",
    "\n",
    "\n",
    "### refreshing the charts ###\n",
    "\n",
    "def refresh_graph():\n",
    "    \"\"\" We change the value of the widget in order to force a redraw of the graph;\n",
    "    this is useful when the data have been updated. This is a bit of a gimmick; it\n",
    "    needs to be customised for one of your widgets. \"\"\"\n",
    "\n",
    "    # trying a loop here\n",
    "    chartcontr_lst = [pcr_cols, vaxcols,] # loop over one control widget for eacg graph\n",
    "\n",
    "    for chart in chartcontr_lst:    # go through the steps of changing / unchanging an option\n",
    "\n",
    "        current=pcr_cols.value\n",
    "        if current==chart.options[0]:\n",
    "            other=chart.options[1]\n",
    "        else:\n",
    "            other=chart.options[0]\n",
    "        chart.value=other # forces the redraw\n",
    "        chart.value=current # changing it back\n",
    "    \n",
    "\n",
    "\n",
    "\n",
    "####\n",
    "\n",
    "graph_pcr_comp=wdg.interactive_output(pcr_comp_graph, {'graphcolumns': pcr_cols})\n",
    "\n",
    "display(pcr_cols, graph_pcr_comp)\n",
    "    \n"
   ]
  },
  {
   "cell_type": "markdown",
   "metadata": {},
   "source": [
    "## Deploying the dashboard\n",
    "\n",
    "Once your code is ready and you are satisfied with the appearance of the graphs, replace all the text boxes above with the explanations you would like a dashboard user to see. The next step is deploying the dashboard online - there are several [options](https://voila.readthedocs.io/en/stable/deploy.html) for this, we suggest deploying as a [Binder](https://mybinder.org/). This is basically the same technique that has been used to package this tutorial and to deploy this template dashboard. The instructions may seem a bit involved, but the actual steps are surprisingly easy - we will be going through them together during a live session. You will need an account on [GitHub](https://github.com/) for this - if you don't have one already, now it's the time to create it. "
   ]
  },
  {
   "cell_type": "markdown",
   "metadata": {},
   "source": [
    "**Author and Copyright Notice** Remember if you deploy this dashboard as a Binder it will be publicly accessible. Take credit for your work! Also acknowledge the data source: *Based on UK Government [data](https://coronavirus.data.gov.uk/) published by [Public Health England](https://www.gov.uk/government/organisations/public-health-england).*"
   ]
  }
 ],
 "metadata": {
  "kernelspec": {
   "display_name": "Python 3.9.12 ('base')",
   "language": "python",
   "name": "python3"
  },
  "language_info": {
   "codemirror_mode": {
    "name": "ipython",
    "version": 3
   },
   "file_extension": ".py",
   "mimetype": "text/x-python",
   "name": "python",
   "nbconvert_exporter": "python",
   "pygments_lexer": "ipython3",
   "version": "3.9.12"
  },
  "vscode": {
   "interpreter": {
    "hash": "c6609c9133a6db690f016f49050ce97a9a809177a34a79c19b62b14f5faf7a07"
   }
  }
 },
 "nbformat": 4,
 "nbformat_minor": 4
}
