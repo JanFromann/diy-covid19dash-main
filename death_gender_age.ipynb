{
 "cells": [
  {
   "cell_type": "code",
   "execution_count": 6,
   "metadata": {},
   "outputs": [],
   "source": [
    "from uk_covid19 import Cov19API\n",
    "import json\n",
    "import pandas as pd\n",
    "import matplotlib.pyplot as plt\n",
    "import ipywidgets as wdg\n",
    "%matplotlib inline\n",
    "plt.rcParams['figure.dpi'] = 100"
   ]
  },
  {
   "cell_type": "code",
   "execution_count": 7,
   "metadata": {},
   "outputs": [],
   "source": [
    "death_filters = [\n",
    "    'areaType=Overview'\n",
    "]\n",
    "\n",
    "sex_filter = [\n",
    "    'areaType=nation',\n",
    "    'areaName=England', # remember to highlight this\n",
    "]"
   ]
  },
  {
   "cell_type": "code",
   "execution_count": 8,
   "metadata": {},
   "outputs": [],
   "source": [
    "death_structure = {\n",
    "    \"date\": \"date\",\n",
    "    \"deaths\": \"newDailyNsoDeathsByDeathDate\",\n",
    "}\n",
    "\n",
    "sex_structure = {\n",
    "    \"date\": \"date\",\n",
    "    \"femaleCases\": \"femaleCases\",\n",
    "    \"maleCases\": \"maleCases\",\n",
    "}"
   ]
  },
  {
   "cell_type": "code",
   "execution_count": 13,
   "metadata": {},
   "outputs": [
    {
     "ename": "ConnectionError",
     "evalue": "HTTPSConnectionPool(host='api.coronavirus.data.gov.uk', port=443): Max retries exceeded with url: /v1/data?filters=areaType%3DOverview&structure=%7B%22date%22%3A%22date%22%2C%22deaths%22%3A%22newDailyNsoDeathsByDeathDate%22%7D&format=json&page=1 (Caused by NewConnectionError('<urllib3.connection.HTTPSConnection object at 0x7ff431af6400>: Failed to establish a new connection: [Errno 8] nodename nor servname provided, or not known'))",
     "output_type": "error",
     "traceback": [
      "\u001b[0;31m---------------------------------------------------------------------------\u001b[0m",
      "\u001b[0;31mgaierror\u001b[0m                                  Traceback (most recent call last)",
      "File \u001b[0;32m~/opt/anaconda3/lib/python3.9/site-packages/urllib3/connection.py:174\u001b[0m, in \u001b[0;36mHTTPConnection._new_conn\u001b[0;34m(self)\u001b[0m\n\u001b[1;32m    173\u001b[0m \u001b[39mtry\u001b[39;00m:\n\u001b[0;32m--> 174\u001b[0m     conn \u001b[39m=\u001b[39m connection\u001b[39m.\u001b[39;49mcreate_connection(\n\u001b[1;32m    175\u001b[0m         (\u001b[39mself\u001b[39;49m\u001b[39m.\u001b[39;49m_dns_host, \u001b[39mself\u001b[39;49m\u001b[39m.\u001b[39;49mport), \u001b[39mself\u001b[39;49m\u001b[39m.\u001b[39;49mtimeout, \u001b[39m*\u001b[39;49m\u001b[39m*\u001b[39;49mextra_kw\n\u001b[1;32m    176\u001b[0m     )\n\u001b[1;32m    178\u001b[0m \u001b[39mexcept\u001b[39;00m SocketTimeout:\n",
      "File \u001b[0;32m~/opt/anaconda3/lib/python3.9/site-packages/urllib3/util/connection.py:73\u001b[0m, in \u001b[0;36mcreate_connection\u001b[0;34m(address, timeout, source_address, socket_options)\u001b[0m\n\u001b[1;32m     69\u001b[0m     \u001b[39mreturn\u001b[39;00m six\u001b[39m.\u001b[39mraise_from(\n\u001b[1;32m     70\u001b[0m         LocationParseError(\u001b[39mu\u001b[39m\u001b[39m\"\u001b[39m\u001b[39m'\u001b[39m\u001b[39m%s\u001b[39;00m\u001b[39m'\u001b[39m\u001b[39m, label empty or too long\u001b[39m\u001b[39m\"\u001b[39m \u001b[39m%\u001b[39m host), \u001b[39mNone\u001b[39;00m\n\u001b[1;32m     71\u001b[0m     )\n\u001b[0;32m---> 73\u001b[0m \u001b[39mfor\u001b[39;00m res \u001b[39min\u001b[39;00m socket\u001b[39m.\u001b[39;49mgetaddrinfo(host, port, family, socket\u001b[39m.\u001b[39;49mSOCK_STREAM):\n\u001b[1;32m     74\u001b[0m     af, socktype, proto, canonname, sa \u001b[39m=\u001b[39m res\n",
      "File \u001b[0;32m~/opt/anaconda3/lib/python3.9/socket.py:954\u001b[0m, in \u001b[0;36mgetaddrinfo\u001b[0;34m(host, port, family, type, proto, flags)\u001b[0m\n\u001b[1;32m    953\u001b[0m addrlist \u001b[39m=\u001b[39m []\n\u001b[0;32m--> 954\u001b[0m \u001b[39mfor\u001b[39;00m res \u001b[39min\u001b[39;00m _socket\u001b[39m.\u001b[39;49mgetaddrinfo(host, port, family, \u001b[39mtype\u001b[39;49m, proto, flags):\n\u001b[1;32m    955\u001b[0m     af, socktype, proto, canonname, sa \u001b[39m=\u001b[39m res\n",
      "\u001b[0;31mgaierror\u001b[0m: [Errno 8] nodename nor servname provided, or not known",
      "\nDuring handling of the above exception, another exception occurred:\n",
      "\u001b[0;31mNewConnectionError\u001b[0m                        Traceback (most recent call last)",
      "File \u001b[0;32m~/opt/anaconda3/lib/python3.9/site-packages/urllib3/connectionpool.py:699\u001b[0m, in \u001b[0;36mHTTPConnectionPool.urlopen\u001b[0;34m(self, method, url, body, headers, retries, redirect, assert_same_host, timeout, pool_timeout, release_conn, chunked, body_pos, **response_kw)\u001b[0m\n\u001b[1;32m    698\u001b[0m \u001b[39m# Make the request on the httplib connection object.\u001b[39;00m\n\u001b[0;32m--> 699\u001b[0m httplib_response \u001b[39m=\u001b[39m \u001b[39mself\u001b[39;49m\u001b[39m.\u001b[39;49m_make_request(\n\u001b[1;32m    700\u001b[0m     conn,\n\u001b[1;32m    701\u001b[0m     method,\n\u001b[1;32m    702\u001b[0m     url,\n\u001b[1;32m    703\u001b[0m     timeout\u001b[39m=\u001b[39;49mtimeout_obj,\n\u001b[1;32m    704\u001b[0m     body\u001b[39m=\u001b[39;49mbody,\n\u001b[1;32m    705\u001b[0m     headers\u001b[39m=\u001b[39;49mheaders,\n\u001b[1;32m    706\u001b[0m     chunked\u001b[39m=\u001b[39;49mchunked,\n\u001b[1;32m    707\u001b[0m )\n\u001b[1;32m    709\u001b[0m \u001b[39m# If we're going to release the connection in ``finally:``, then\u001b[39;00m\n\u001b[1;32m    710\u001b[0m \u001b[39m# the response doesn't need to know about the connection. Otherwise\u001b[39;00m\n\u001b[1;32m    711\u001b[0m \u001b[39m# it will also try to release it and we'll have a double-release\u001b[39;00m\n\u001b[1;32m    712\u001b[0m \u001b[39m# mess.\u001b[39;00m\n",
      "File \u001b[0;32m~/opt/anaconda3/lib/python3.9/site-packages/urllib3/connectionpool.py:382\u001b[0m, in \u001b[0;36mHTTPConnectionPool._make_request\u001b[0;34m(self, conn, method, url, timeout, chunked, **httplib_request_kw)\u001b[0m\n\u001b[1;32m    381\u001b[0m \u001b[39mtry\u001b[39;00m:\n\u001b[0;32m--> 382\u001b[0m     \u001b[39mself\u001b[39;49m\u001b[39m.\u001b[39;49m_validate_conn(conn)\n\u001b[1;32m    383\u001b[0m \u001b[39mexcept\u001b[39;00m (SocketTimeout, BaseSSLError) \u001b[39mas\u001b[39;00m e:\n\u001b[1;32m    384\u001b[0m     \u001b[39m# Py2 raises this as a BaseSSLError, Py3 raises it as socket timeout.\u001b[39;00m\n",
      "File \u001b[0;32m~/opt/anaconda3/lib/python3.9/site-packages/urllib3/connectionpool.py:1010\u001b[0m, in \u001b[0;36mHTTPSConnectionPool._validate_conn\u001b[0;34m(self, conn)\u001b[0m\n\u001b[1;32m   1009\u001b[0m \u001b[39mif\u001b[39;00m \u001b[39mnot\u001b[39;00m \u001b[39mgetattr\u001b[39m(conn, \u001b[39m\"\u001b[39m\u001b[39msock\u001b[39m\u001b[39m\"\u001b[39m, \u001b[39mNone\u001b[39;00m):  \u001b[39m# AppEngine might not have  `.sock`\u001b[39;00m\n\u001b[0;32m-> 1010\u001b[0m     conn\u001b[39m.\u001b[39;49mconnect()\n\u001b[1;32m   1012\u001b[0m \u001b[39mif\u001b[39;00m \u001b[39mnot\u001b[39;00m conn\u001b[39m.\u001b[39mis_verified:\n",
      "File \u001b[0;32m~/opt/anaconda3/lib/python3.9/site-packages/urllib3/connection.py:358\u001b[0m, in \u001b[0;36mHTTPSConnection.connect\u001b[0;34m(self)\u001b[0m\n\u001b[1;32m    356\u001b[0m \u001b[39mdef\u001b[39;00m \u001b[39mconnect\u001b[39m(\u001b[39mself\u001b[39m):\n\u001b[1;32m    357\u001b[0m     \u001b[39m# Add certificate verification\u001b[39;00m\n\u001b[0;32m--> 358\u001b[0m     conn \u001b[39m=\u001b[39m \u001b[39mself\u001b[39;49m\u001b[39m.\u001b[39;49m_new_conn()\n\u001b[1;32m    359\u001b[0m     hostname \u001b[39m=\u001b[39m \u001b[39mself\u001b[39m\u001b[39m.\u001b[39mhost\n",
      "File \u001b[0;32m~/opt/anaconda3/lib/python3.9/site-packages/urllib3/connection.py:186\u001b[0m, in \u001b[0;36mHTTPConnection._new_conn\u001b[0;34m(self)\u001b[0m\n\u001b[1;32m    185\u001b[0m \u001b[39mexcept\u001b[39;00m SocketError \u001b[39mas\u001b[39;00m e:\n\u001b[0;32m--> 186\u001b[0m     \u001b[39mraise\u001b[39;00m NewConnectionError(\n\u001b[1;32m    187\u001b[0m         \u001b[39mself\u001b[39m, \u001b[39m\"\u001b[39m\u001b[39mFailed to establish a new connection: \u001b[39m\u001b[39m%s\u001b[39;00m\u001b[39m\"\u001b[39m \u001b[39m%\u001b[39m e\n\u001b[1;32m    188\u001b[0m     )\n\u001b[1;32m    190\u001b[0m \u001b[39mreturn\u001b[39;00m conn\n",
      "\u001b[0;31mNewConnectionError\u001b[0m: <urllib3.connection.HTTPSConnection object at 0x7ff431af6400>: Failed to establish a new connection: [Errno 8] nodename nor servname provided, or not known",
      "\nDuring handling of the above exception, another exception occurred:\n",
      "\u001b[0;31mMaxRetryError\u001b[0m                             Traceback (most recent call last)",
      "File \u001b[0;32m~/opt/anaconda3/lib/python3.9/site-packages/requests/adapters.py:439\u001b[0m, in \u001b[0;36mHTTPAdapter.send\u001b[0;34m(self, request, stream, timeout, verify, cert, proxies)\u001b[0m\n\u001b[1;32m    438\u001b[0m \u001b[39mif\u001b[39;00m \u001b[39mnot\u001b[39;00m chunked:\n\u001b[0;32m--> 439\u001b[0m     resp \u001b[39m=\u001b[39m conn\u001b[39m.\u001b[39;49murlopen(\n\u001b[1;32m    440\u001b[0m         method\u001b[39m=\u001b[39;49mrequest\u001b[39m.\u001b[39;49mmethod,\n\u001b[1;32m    441\u001b[0m         url\u001b[39m=\u001b[39;49murl,\n\u001b[1;32m    442\u001b[0m         body\u001b[39m=\u001b[39;49mrequest\u001b[39m.\u001b[39;49mbody,\n\u001b[1;32m    443\u001b[0m         headers\u001b[39m=\u001b[39;49mrequest\u001b[39m.\u001b[39;49mheaders,\n\u001b[1;32m    444\u001b[0m         redirect\u001b[39m=\u001b[39;49m\u001b[39mFalse\u001b[39;49;00m,\n\u001b[1;32m    445\u001b[0m         assert_same_host\u001b[39m=\u001b[39;49m\u001b[39mFalse\u001b[39;49;00m,\n\u001b[1;32m    446\u001b[0m         preload_content\u001b[39m=\u001b[39;49m\u001b[39mFalse\u001b[39;49;00m,\n\u001b[1;32m    447\u001b[0m         decode_content\u001b[39m=\u001b[39;49m\u001b[39mFalse\u001b[39;49;00m,\n\u001b[1;32m    448\u001b[0m         retries\u001b[39m=\u001b[39;49m\u001b[39mself\u001b[39;49m\u001b[39m.\u001b[39;49mmax_retries,\n\u001b[1;32m    449\u001b[0m         timeout\u001b[39m=\u001b[39;49mtimeout\n\u001b[1;32m    450\u001b[0m     )\n\u001b[1;32m    452\u001b[0m \u001b[39m# Send the request.\u001b[39;00m\n\u001b[1;32m    453\u001b[0m \u001b[39melse\u001b[39;00m:\n",
      "File \u001b[0;32m~/opt/anaconda3/lib/python3.9/site-packages/urllib3/connectionpool.py:755\u001b[0m, in \u001b[0;36mHTTPConnectionPool.urlopen\u001b[0;34m(self, method, url, body, headers, retries, redirect, assert_same_host, timeout, pool_timeout, release_conn, chunked, body_pos, **response_kw)\u001b[0m\n\u001b[1;32m    753\u001b[0m     e \u001b[39m=\u001b[39m ProtocolError(\u001b[39m\"\u001b[39m\u001b[39mConnection aborted.\u001b[39m\u001b[39m\"\u001b[39m, e)\n\u001b[0;32m--> 755\u001b[0m retries \u001b[39m=\u001b[39m retries\u001b[39m.\u001b[39;49mincrement(\n\u001b[1;32m    756\u001b[0m     method, url, error\u001b[39m=\u001b[39;49me, _pool\u001b[39m=\u001b[39;49m\u001b[39mself\u001b[39;49m, _stacktrace\u001b[39m=\u001b[39;49msys\u001b[39m.\u001b[39;49mexc_info()[\u001b[39m2\u001b[39;49m]\n\u001b[1;32m    757\u001b[0m )\n\u001b[1;32m    758\u001b[0m retries\u001b[39m.\u001b[39msleep()\n",
      "File \u001b[0;32m~/opt/anaconda3/lib/python3.9/site-packages/urllib3/util/retry.py:574\u001b[0m, in \u001b[0;36mRetry.increment\u001b[0;34m(self, method, url, response, error, _pool, _stacktrace)\u001b[0m\n\u001b[1;32m    573\u001b[0m \u001b[39mif\u001b[39;00m new_retry\u001b[39m.\u001b[39mis_exhausted():\n\u001b[0;32m--> 574\u001b[0m     \u001b[39mraise\u001b[39;00m MaxRetryError(_pool, url, error \u001b[39mor\u001b[39;00m ResponseError(cause))\n\u001b[1;32m    576\u001b[0m log\u001b[39m.\u001b[39mdebug(\u001b[39m\"\u001b[39m\u001b[39mIncremented Retry for (url=\u001b[39m\u001b[39m'\u001b[39m\u001b[39m%s\u001b[39;00m\u001b[39m'\u001b[39m\u001b[39m): \u001b[39m\u001b[39m%r\u001b[39;00m\u001b[39m\"\u001b[39m, url, new_retry)\n",
      "\u001b[0;31mMaxRetryError\u001b[0m: HTTPSConnectionPool(host='api.coronavirus.data.gov.uk', port=443): Max retries exceeded with url: /v1/data?filters=areaType%3DOverview&structure=%7B%22date%22%3A%22date%22%2C%22deaths%22%3A%22newDailyNsoDeathsByDeathDate%22%7D&format=json&page=1 (Caused by NewConnectionError('<urllib3.connection.HTTPSConnection object at 0x7ff431af6400>: Failed to establish a new connection: [Errno 8] nodename nor servname provided, or not known'))",
      "\nDuring handling of the above exception, another exception occurred:\n",
      "\u001b[0;31mConnectionError\u001b[0m                           Traceback (most recent call last)",
      "\u001b[1;32m/Users/janfrommann/Documents/QMUL/Computer_Programming/Coding_Material/diy-covid19dash-main/death_gender_age.ipynb Cell 4\u001b[0m in \u001b[0;36m<cell line: 2>\u001b[0;34m()\u001b[0m\n\u001b[1;32m      <a href='vscode-notebook-cell:/Users/janfrommann/Documents/QMUL/Computer_Programming/Coding_Material/diy-covid19dash-main/death_gender_age.ipynb#W4sZmlsZQ%3D%3D?line=0'>1</a>\u001b[0m death_api \u001b[39m=\u001b[39m Cov19API(filters\u001b[39m=\u001b[39mdeath_filters, structure\u001b[39m=\u001b[39mdeath_structure)\n\u001b[0;32m----> <a href='vscode-notebook-cell:/Users/janfrommann/Documents/QMUL/Computer_Programming/Coding_Material/diy-covid19dash-main/death_gender_age.ipynb#W4sZmlsZQ%3D%3D?line=1'>2</a>\u001b[0m death_data \u001b[39m=\u001b[39m death_api\u001b[39m.\u001b[39;49mget_json()\n\u001b[1;32m      <a href='vscode-notebook-cell:/Users/janfrommann/Documents/QMUL/Computer_Programming/Coding_Material/diy-covid19dash-main/death_gender_age.ipynb#W4sZmlsZQ%3D%3D?line=3'>4</a>\u001b[0m sex_api \u001b[39m=\u001b[39m Cov19API(filters\u001b[39m=\u001b[39msex_filter, structure\u001b[39m=\u001b[39msex_structure)\n\u001b[1;32m      <a href='vscode-notebook-cell:/Users/janfrommann/Documents/QMUL/Computer_Programming/Coding_Material/diy-covid19dash-main/death_gender_age.ipynb#W4sZmlsZQ%3D%3D?line=4'>5</a>\u001b[0m sex_data\u001b[39m=\u001b[39msex_api\u001b[39m.\u001b[39mget_json()\n",
      "File \u001b[0;32m~/opt/anaconda3/lib/python3.9/site-packages/uk_covid19/api_interface.py:367\u001b[0m, in \u001b[0;36mCov19API.get_json\u001b[0;34m(self, save_as, as_string)\u001b[0m\n\u001b[1;32m    325\u001b[0m \u001b[39m\"\"\"\u001b[39;00m\n\u001b[1;32m    326\u001b[0m \u001b[39mProvides full data (all pages) in JSON.\u001b[39;00m\n\u001b[1;32m    327\u001b[0m \n\u001b[0;32m   (...)\u001b[0m\n\u001b[1;32m    361\u001b[0m \u001b[39m{'data': [{'name': 'East Midlands', 'newCases': 0}, ... }\u001b[39;00m\n\u001b[1;32m    362\u001b[0m \u001b[39m\"\"\"\u001b[39;00m\n\u001b[1;32m    363\u001b[0m resp \u001b[39m=\u001b[39m {\n\u001b[1;32m    364\u001b[0m     \u001b[39m\"\u001b[39m\u001b[39mdata\u001b[39m\u001b[39m\"\u001b[39m: \u001b[39mlist\u001b[39m()\n\u001b[1;32m    365\u001b[0m }\n\u001b[0;32m--> 367\u001b[0m \u001b[39mfor\u001b[39;00m response \u001b[39min\u001b[39;00m \u001b[39mself\u001b[39m\u001b[39m.\u001b[39m_get(DataFormat\u001b[39m.\u001b[39mJSON):\n\u001b[1;32m    368\u001b[0m     current_data \u001b[39m=\u001b[39m response\u001b[39m.\u001b[39mjson()\n\u001b[1;32m    369\u001b[0m     page_data \u001b[39m=\u001b[39m current_data[\u001b[39m'\u001b[39m\u001b[39mdata\u001b[39m\u001b[39m'\u001b[39m]\n",
      "File \u001b[0;32m~/opt/anaconda3/lib/python3.9/site-packages/uk_covid19/api_interface.py:305\u001b[0m, in \u001b[0;36mCov19API._get\u001b[0;34m(self, format_as)\u001b[0m\n\u001b[1;32m    302\u001b[0m     \u001b[39mdel\u001b[39;00m api_params[\u001b[39m\"\u001b[39m\u001b[39mpage\u001b[39m\u001b[39m\"\u001b[39m]\n\u001b[1;32m    304\u001b[0m \u001b[39mwhile\u001b[39;00m \u001b[39mTrue\u001b[39;00m:\n\u001b[0;32m--> 305\u001b[0m     \u001b[39mwith\u001b[39;00m request(\u001b[39m\"\u001b[39;49m\u001b[39mGET\u001b[39;49m\u001b[39m\"\u001b[39;49m, \u001b[39mself\u001b[39;49m\u001b[39m.\u001b[39;49mendpoint, params\u001b[39m=\u001b[39;49mapi_params,\n\u001b[1;32m    306\u001b[0m                  verify\u001b[39m=\u001b[39;49mcertifi\u001b[39m.\u001b[39;49mwhere()) \u001b[39mas\u001b[39;00m response:\n\u001b[1;32m    307\u001b[0m         \u001b[39mif\u001b[39;00m response\u001b[39m.\u001b[39mstatus_code \u001b[39m>\u001b[39m\u001b[39m=\u001b[39m HTTPStatus\u001b[39m.\u001b[39mBAD_REQUEST:\n\u001b[1;32m    308\u001b[0m             \u001b[39mraise\u001b[39;00m FailedRequestError(response\u001b[39m=\u001b[39mresponse, params\u001b[39m=\u001b[39mapi_params)\n",
      "File \u001b[0;32m~/opt/anaconda3/lib/python3.9/site-packages/requests/api.py:61\u001b[0m, in \u001b[0;36mrequest\u001b[0;34m(method, url, **kwargs)\u001b[0m\n\u001b[1;32m     57\u001b[0m \u001b[39m# By using the 'with' statement we are sure the session is closed, thus we\u001b[39;00m\n\u001b[1;32m     58\u001b[0m \u001b[39m# avoid leaving sockets open which can trigger a ResourceWarning in some\u001b[39;00m\n\u001b[1;32m     59\u001b[0m \u001b[39m# cases, and look like a memory leak in others.\u001b[39;00m\n\u001b[1;32m     60\u001b[0m \u001b[39mwith\u001b[39;00m sessions\u001b[39m.\u001b[39mSession() \u001b[39mas\u001b[39;00m session:\n\u001b[0;32m---> 61\u001b[0m     \u001b[39mreturn\u001b[39;00m session\u001b[39m.\u001b[39;49mrequest(method\u001b[39m=\u001b[39;49mmethod, url\u001b[39m=\u001b[39;49murl, \u001b[39m*\u001b[39;49m\u001b[39m*\u001b[39;49mkwargs)\n",
      "File \u001b[0;32m~/opt/anaconda3/lib/python3.9/site-packages/requests/sessions.py:542\u001b[0m, in \u001b[0;36mSession.request\u001b[0;34m(self, method, url, params, data, headers, cookies, files, auth, timeout, allow_redirects, proxies, hooks, stream, verify, cert, json)\u001b[0m\n\u001b[1;32m    537\u001b[0m send_kwargs \u001b[39m=\u001b[39m {\n\u001b[1;32m    538\u001b[0m     \u001b[39m'\u001b[39m\u001b[39mtimeout\u001b[39m\u001b[39m'\u001b[39m: timeout,\n\u001b[1;32m    539\u001b[0m     \u001b[39m'\u001b[39m\u001b[39mallow_redirects\u001b[39m\u001b[39m'\u001b[39m: allow_redirects,\n\u001b[1;32m    540\u001b[0m }\n\u001b[1;32m    541\u001b[0m send_kwargs\u001b[39m.\u001b[39mupdate(settings)\n\u001b[0;32m--> 542\u001b[0m resp \u001b[39m=\u001b[39m \u001b[39mself\u001b[39;49m\u001b[39m.\u001b[39;49msend(prep, \u001b[39m*\u001b[39;49m\u001b[39m*\u001b[39;49msend_kwargs)\n\u001b[1;32m    544\u001b[0m \u001b[39mreturn\u001b[39;00m resp\n",
      "File \u001b[0;32m~/opt/anaconda3/lib/python3.9/site-packages/requests/sessions.py:655\u001b[0m, in \u001b[0;36mSession.send\u001b[0;34m(self, request, **kwargs)\u001b[0m\n\u001b[1;32m    652\u001b[0m start \u001b[39m=\u001b[39m preferred_clock()\n\u001b[1;32m    654\u001b[0m \u001b[39m# Send the request\u001b[39;00m\n\u001b[0;32m--> 655\u001b[0m r \u001b[39m=\u001b[39m adapter\u001b[39m.\u001b[39;49msend(request, \u001b[39m*\u001b[39;49m\u001b[39m*\u001b[39;49mkwargs)\n\u001b[1;32m    657\u001b[0m \u001b[39m# Total elapsed time of the request (approximately)\u001b[39;00m\n\u001b[1;32m    658\u001b[0m elapsed \u001b[39m=\u001b[39m preferred_clock() \u001b[39m-\u001b[39m start\n",
      "File \u001b[0;32m~/opt/anaconda3/lib/python3.9/site-packages/requests/adapters.py:516\u001b[0m, in \u001b[0;36mHTTPAdapter.send\u001b[0;34m(self, request, stream, timeout, verify, cert, proxies)\u001b[0m\n\u001b[1;32m    512\u001b[0m     \u001b[39mif\u001b[39;00m \u001b[39misinstance\u001b[39m(e\u001b[39m.\u001b[39mreason, _SSLError):\n\u001b[1;32m    513\u001b[0m         \u001b[39m# This branch is for urllib3 v1.22 and later.\u001b[39;00m\n\u001b[1;32m    514\u001b[0m         \u001b[39mraise\u001b[39;00m SSLError(e, request\u001b[39m=\u001b[39mrequest)\n\u001b[0;32m--> 516\u001b[0m     \u001b[39mraise\u001b[39;00m \u001b[39mConnectionError\u001b[39;00m(e, request\u001b[39m=\u001b[39mrequest)\n\u001b[1;32m    518\u001b[0m \u001b[39mexcept\u001b[39;00m ClosedPoolError \u001b[39mas\u001b[39;00m e:\n\u001b[1;32m    519\u001b[0m     \u001b[39mraise\u001b[39;00m \u001b[39mConnectionError\u001b[39;00m(e, request\u001b[39m=\u001b[39mrequest)\n",
      "\u001b[0;31mConnectionError\u001b[0m: HTTPSConnectionPool(host='api.coronavirus.data.gov.uk', port=443): Max retries exceeded with url: /v1/data?filters=areaType%3DOverview&structure=%7B%22date%22%3A%22date%22%2C%22deaths%22%3A%22newDailyNsoDeathsByDeathDate%22%7D&format=json&page=1 (Caused by NewConnectionError('<urllib3.connection.HTTPSConnection object at 0x7ff431af6400>: Failed to establish a new connection: [Errno 8] nodename nor servname provided, or not known'))"
     ]
    }
   ],
   "source": [
    "death_api = Cov19API(filters=death_filters, structure=death_structure)\n",
    "death_data = death_api.get_json()\n",
    "\n",
    "sex_api = Cov19API(filters=sex_filter, structure=sex_structure)\n",
    "sex_data=sex_api.get_json()\n",
    "\n",
    "#print(death_data)\n",
    "#print(sex_data)\n",
    "\n",
    "death_data_lst = death_data[\"data\"]\n",
    "sex_data_lst = sex_data[\"data\"]\n",
    "\n",
    "#print(death_data_lst)\n",
    "print(sex_data_lst)"
   ]
  },
  {
   "cell_type": "code",
   "execution_count": null,
   "metadata": {},
   "outputs": [],
   "source": [
    "# dump into json\n",
    "\n",
    "\n",
    "with open('death_data.json', \"wt\") as OUTF:\n",
    "    json.dump(death_data_lst, OUTF)\n",
    "\n",
    "with open(\"sex_data.json\", \"wt\") as OUTF:\n",
    "    json.dump(sex_data_lst, OUTF)\n"
   ]
  },
  {
   "cell_type": "code",
   "execution_count": 15,
   "metadata": {},
   "outputs": [],
   "source": [
    "with open(\"death_data.json\", \"rt\") as INFILE:\n",
    "    death_data = json.load(INFILE)\n",
    "\n",
    "with open(\"sex_data.json\", \"rt\") as INFILE:\n",
    "    sex_data = json.load(INFILE)   "
   ]
  },
  {
   "cell_type": "code",
   "execution_count": 16,
   "metadata": {},
   "outputs": [
    {
     "name": "stdout",
     "output_type": "stream",
     "text": [
      "DatetimeIndex(['2020-01-30', '2020-01-31', '2020-02-01', '2020-02-02',\n",
      "               '2020-02-03', '2020-02-04', '2020-02-05', '2020-02-06',\n",
      "               '2020-02-07', '2020-02-08',\n",
      "               ...\n",
      "               '2022-11-02', '2022-11-03', '2022-11-04', '2022-11-05',\n",
      "               '2022-11-06', '2022-11-07', '2022-11-08', '2022-11-09',\n",
      "               '2022-11-10', '2022-11-11'],\n",
      "              dtype='datetime64[ns]', length=1017, freq='D')\n"
     ]
    }
   ],
   "source": [
    "# getting the timeseries\n",
    "\n",
    "\n",
    "death_dates_raw =[dictionary['date'] for dictionary in death_data ]\n",
    "\n",
    "\n",
    "\n",
    "death_dates_dic = {date for date in death_dates_raw} # removing duplicates by transforming into a dictionary and back into a sorted list \n",
    "death_dates = list(death_dates_dic)\n",
    "death_dates.sort()\n",
    "\n",
    "\n",
    "#print(death_dates)\n",
    "\n",
    "# gettingn start and end dates\n",
    "\n",
    "\n",
    "def parse_date(datestring):\n",
    "    \"\"\" Convert a date string into a pandas datetime object \"\"\"\n",
    "    return pd.to_datetime(datestring, format=\"%Y-%m-%d\")\n",
    "\n",
    "death_startdate=parse_date(death_dates[0])\n",
    "death_enddate=parse_date(death_dates[-1])\n",
    "\n",
    "death_index_d=pd.date_range(death_startdate, death_enddate, freq='D')\n",
    "print(death_index_d)\n"
   ]
  },
  {
   "cell_type": "code",
   "execution_count": 17,
   "metadata": {},
   "outputs": [
    {
     "name": "stdout",
     "output_type": "stream",
     "text": [
      "85\n",
      "90\n",
      "['0_to_4', '5_to_9', '10_to_14', '15_to_19', '20_to_24', '25_to_29', '30_to_34', '35_to_39', '40_to_44', '45_to_49', '50_to_54', '55_to_59', '60_to_64', '65_to_69', '70_to_74', '75_to_79', '80_to_84', '85_to_89', '90+']\n"
     ]
    }
   ],
   "source": [
    "# getting female / male cases and the age ranges\n",
    "\n",
    "female_cases = [dictionary['femaleCases'] for dictionary in sex_data]\n",
    "male_cases = [dictionary['maleCases'] for dictionary in sex_data]\n",
    "\n",
    "age_bands =[]\n",
    "for item in male_cases:\n",
    "    age_bands += [dictionary['age'] for dictionary in item]\n",
    "\n",
    "age_bands = list(set(age_bands)) # removing duplicates and sorting (how did sorting here actually happen? Im not sure)\n",
    "age_bands.sort()\n",
    "#print(age_bands)\n",
    "\n",
    "\n",
    "def min_age(agerange):\n",
    "    agerange=agerange.replace('+','') # remove the + from 90+\n",
    "    start=agerange.split('_')[0]\n",
    "    return int(start)\n",
    "\n",
    "print(min_age('85_to_89'))\n",
    "print(min_age('90+'))\n",
    "\n",
    "age_bands.sort(key=min_age)\n",
    "print(age_bands)\n",
    "\n",
    "\n",
    "#print(female_cases)"
   ]
  },
  {
   "cell_type": "code",
   "execution_count": 19,
   "metadata": {},
   "outputs": [
    {
     "name": "stdout",
     "output_type": "stream",
     "text": [
      "['0_to_4', '5_to_9', '10_to_14', '15_to_19', '20_to_24', '25_to_29', '30_to_34', '35_to_39', '40_to_44', '45_to_49', '50_to_54', '55_to_59', '60_to_64', '65_to_69', '70_to_74', '75_to_79', '80_to_84', '85_to_89', '90+']\n"
     ]
    }
   ],
   "source": [
    "# Building the dataframe\n",
    "print(age_bands)\n",
    "\n",
    "\n",
    "\n",
    "death_df = pd.DataFrame(index=death_index_d, columns = (\"DailyDeaths\", \"F_0_to_4\", \"F_5_to_9\", \"F_10_to_14\", \"F_15_to_19\", \"F_20_to_24\", \"F_25_to_29\", \"F_30_to_34\", \"F_35_to_39\", \"F_40_to_44\", \"F_45_to_49\", \"F_50_to_54\", \"F_55_to_59\", \"F_60_to_64\", \"F_65_to_69\", \"F_70_to_74\", \"F_75_to_79\", \"F_80_to_84\", \"F_85_to_89\", \"F_90_to_94\", \"F_90+\", \"M_0_to_4\", \"M_5_to_9\", \"M_10_to_14\", \"M_15_to_19\", \"M_20_to_24\", \"M_25_to_29\", \"M_30_to_34\", \"M_35_to_39\", \"M_40_to_44\", \"M_45_to_49\", \"M_50_to_54\", \"M_55_to_59\", \"M_60_to_64\", \"M_65_to_69\", \"M_70_to_74\", \"M_75_to_79\", \"M_80_to_84\", \"M_85_to_89\", \"M_90_to_94\", \"M_90+\"))\n",
    "#print(death_df)\n"
   ]
  },
  {
   "cell_type": "code",
   "execution_count": 20,
   "metadata": {},
   "outputs": [],
   "source": [
    "# filling the data frame\n",
    "\n",
    "## filling in the gender / case / age_range data\n",
    "\n",
    "\n",
    "for dictionary in sex_data:\n",
    "    date=parse_date(dictionary['date'])\n",
    "    #print(dictionary['femaleCases'])\n",
    "    #iterable = dictionary['femaleCases']\n",
    "    for item in dictionary['femaleCases']:\n",
    "        #print(item['age'])\n",
    "        if item['age'] == '0_to_4':\n",
    "            value= float(item['value']) if item['value'] !=None else 0.0\n",
    "            death_df.loc[date, \"F_0_to_4\"]= value\n",
    "        if item['age'] == '5_to_9':\n",
    "            value= float(item['value']) if item['value'] !=None else 0.0\n",
    "            death_df.loc[date, \"F_5_to_9\"]= value\n",
    "        if item['age'] == '10_to_14':\n",
    "            value= float(item['value']) if item['value'] !=None else 0.0\n",
    "            death_df.loc[date, \"F_10_to_14\"]= value\n",
    "        if item['age'] == '15_to_19':\n",
    "            value= float(item['value']) if item['value'] !=None else 0.0\n",
    "            death_df.loc[date, \"F_15_to_19\"]= value\n",
    "        if item['age'] == '20_to_24':\n",
    "            value= float(item['value']) if item['value'] !=None else 0.0\n",
    "            death_df.loc[date, \"F_20_to_24\"]= value\n",
    "        if item['age'] == '25_to_29':\n",
    "            value= float(item['value']) if item['value'] !=None else 0.0\n",
    "            death_df.loc[date, \"F_25_to_29\"]= value\n",
    "        if item['age'] == '30_to_34':\n",
    "            value= float(item['value']) if item['value'] !=None else 0.0\n",
    "            death_df.loc[date, \"F_30_to_34\"]= value\n",
    "        if item['age'] == '35_to_39':\n",
    "            value= float(item['value']) if item['value'] !=None else 0.0\n",
    "            death_df.loc[date, \"F_35_to_39\"]= value\n",
    "        if item['age'] == '40_to_44':\n",
    "            value= float(item['value']) if item['value'] !=None else 0.0\n",
    "            death_df.loc[date, \"F_40_to_44\"]= value\n",
    "        if item['age'] == '45_to_49':\n",
    "            value= float(item['value']) if item['value'] !=None else 0.0\n",
    "            death_df.loc[date, \"F_45_to_49\"]= value\n",
    "        if item['age'] == '50_to_54':\n",
    "            value= float(item['value']) if item['value'] !=None else 0.0\n",
    "            death_df.loc[date, \"F_50_to_54\"]= value\n",
    "        if item['age'] == '55_to_59':\n",
    "            value= float(item['value']) if item['value'] !=None else 0.0\n",
    "            death_df.loc[date, \"F_55_to_59\"]= value\n",
    "        if item['age'] == '60_to_64':\n",
    "            value= float(item['value']) if item['value'] !=None else 0.0\n",
    "            death_df.loc[date, \"F_60_to_64\"]= value\n",
    "        if item['age'] == '65_to_69':\n",
    "            value= float(item['value']) if item['value'] !=None else 0.0\n",
    "            death_df.loc[date, \"F_65_to_69\"]= value\n",
    "        if item['age'] == '70_to_74':\n",
    "            value= float(item['value']) if item['value'] !=None else 0.0\n",
    "            death_df.loc[date, \"F_70_to_74\"]= value\n",
    "        if item['age'] == '80_to_84':\n",
    "            value= float(item['value']) if item['value'] !=None else 0.0\n",
    "            death_df.loc[date, \"F_80_to_84\"]= value\n",
    "        if item['age'] == '85_to_89':\n",
    "            value= float(item['value']) if item['value'] !=None else 0.0\n",
    "            death_df.loc[date, \"F_85_to_89\"]= value\n",
    "        if item['age'] == '90_to_94':\n",
    "            value= float(item['value']) if item['value'] !=None else 0.0\n",
    "            death_df.loc[date, \"F_90_to_94\"]= value\n",
    "        if item['age'] == '90+':\n",
    "            value= float(item['value']) if item['value'] !=None else 0.0\n",
    "            death_df.loc[date, \"F_90+\"]= value\n",
    "    for item in dictionary['maleCases']:\n",
    "        if item['age'] == '0_to_4':\n",
    "            value= float(item['value']) if item['value'] !=None else 0.0\n",
    "            death_df.loc[date, \"M_0_to_4\"]= value\n",
    "        if item['age'] == '5_to_9':\n",
    "            value= float(item['value']) if item['value'] !=None else 0.0\n",
    "            death_df.loc[date, \"M_5_to_9\"]= value\n",
    "        if item['age'] == '10_to_14':\n",
    "            value= float(item['value']) if item['value'] !=None else 0.0\n",
    "            death_df.loc[date, \"M_10_to_14\"]= value\n",
    "        if item['age'] == '15_to_19':\n",
    "            value= float(item['value']) if item['value'] !=None else 0.0\n",
    "            death_df.loc[date, \"M_15_to_19\"]= value\n",
    "        if item['age'] == '20_to_24':\n",
    "            value= float(item['value']) if item['value'] !=None else 0.0\n",
    "            death_df.loc[date, \"M_20_to_24\"]= value\n",
    "        if item['age'] == '25_to_29':\n",
    "            value= float(item['value']) if item['value'] !=None else 0.0\n",
    "            death_df.loc[date, \"M_25_to_29\"]= value\n",
    "        if item['age'] == '30_to_34':\n",
    "            value= float(item['value']) if item['value'] !=None else 0.0\n",
    "            death_df.loc[date, \"M_30_to_34\"]= value\n",
    "        if item['age'] == '35_to_39':\n",
    "            value= float(item['value']) if item['value'] !=None else 0.0\n",
    "            death_df.loc[date, \"M_35_to_39\"]= value\n",
    "        if item['age'] == '40_to_44':\n",
    "            value= float(item['value']) if item['value'] !=None else 0.0\n",
    "            death_df.loc[date, \"M_40_to_44\"]= value\n",
    "        if item['age'] == '45_to_49':\n",
    "            value= float(item['value']) if item['value'] !=None else 0.0\n",
    "            death_df.loc[date, \"M_45_to_49\"]= value\n",
    "        if item['age'] == '50_to_54':\n",
    "            value= float(item['value']) if item['value'] !=None else 0.0\n",
    "            death_df.loc[date, \"M_50_to_54\"]= value\n",
    "        if item['age'] == '55_to_59':\n",
    "            value= float(item['value']) if item['value'] !=None else 0.0\n",
    "            death_df.loc[date, \"M_55_to_59\"]= value\n",
    "        if item['age'] == '60_to_64':\n",
    "            value= float(item['value']) if item['value'] !=None else 0.0\n",
    "            death_df.loc[date, \"M_60_to_64\"]= value\n",
    "        if item['age'] == '65_to_69':\n",
    "            value= float(item['value']) if item['value'] !=None else 0.0\n",
    "            death_df.loc[date, \"M_65_to_69\"]= value\n",
    "        if item['age'] == '70_to_74':\n",
    "            value= float(item['value']) if item['value'] !=None else 0.0\n",
    "            death_df.loc[date, \"M_70_to_74\"]= value\n",
    "        if item['age'] == '80_to_84':\n",
    "            value= float(item['value']) if item['value'] !=None else 0.0\n",
    "            death_df.loc[date, \"M_80_to_84\"]= value\n",
    "        if item['age'] == '85_to_89':\n",
    "            value= float(item['value']) if item['value'] !=None else 0.0\n",
    "            death_df.loc[date, \"M_85_to_89\"]= value\n",
    "        if item['age'] == '90_to_94':\n",
    "            value= float(item['value']) if item['value'] !=None else 0.0\n",
    "            death_df.loc[date, \"M_90_to_94\"]= value\n",
    "        if item['age'] == '90+':\n",
    "            value= float(item['value']) if item['value'] !=None else 0.0\n",
    "            death_df.loc[date, \"M_90+\"]= value\n",
    "\n",
    "\n",
    "\n",
    "\n",
    "\n",
    "\n",
    "        \n"
   ]
  },
  {
   "cell_type": "code",
   "execution_count": 21,
   "metadata": {},
   "outputs": [],
   "source": [
    "## filling in the daily deaths data\n",
    "\n",
    "for entry in death_data:    # could probably use this method for the gender data to save lines of code... try if I have time\n",
    "    #print(entry[\"deaths\"])\n",
    "\n",
    "    date = parse_date(entry[\"date\"])\n",
    "\n",
    "    if pd.isna(death_df.loc[date, \"DailyDeaths\"]):\n",
    "\n",
    "        value = float(entry[\"deaths\"]) if entry[\"deaths\"] !=None else 0.0\n",
    "\n",
    "        death_df.loc[date, \"DailyDeaths\"] = value\n",
    "\n",
    "\n",
    "death_df.fillna(0.0, inplace=True)"
   ]
  },
  {
   "cell_type": "code",
   "execution_count": 23,
   "metadata": {},
   "outputs": [],
   "source": [
    "death_df_m = death_df.resample('1m').sum() # why is the last bar shorter? in the line chart there is no drop-off ... could be because it avarages for missing data?\n",
    "\n"
   ]
  },
  {
   "cell_type": "code",
   "execution_count": 25,
   "metadata": {},
   "outputs": [
    {
     "data": {
      "application/vnd.jupyter.widget-view+json": {
       "model_id": "ac66326c7830490aa118d784b2598654",
       "version_major": 2,
       "version_minor": 0
      },
      "text/plain": [
       "HBox(children=(SelectMultiple(description='Female Age Bands', index=(0, 1, 2, 3, 4, 5, 6, 7, 8, 9, 10, 11, 12,…"
      ]
     },
     "metadata": {},
     "output_type": "display_data"
    },
    {
     "data": {
      "application/vnd.jupyter.widget-view+json": {
       "model_id": "0a3447a1ae684a07831ba44a126eb210",
       "version_major": 2,
       "version_minor": 0
      },
      "text/plain": [
       "Output()"
      ]
     },
     "metadata": {},
     "output_type": "display_data"
    }
   ],
   "source": [
    "# making this interactive\n",
    "\n",
    "\n",
    "\n",
    "# adding a selector for the gender data\n",
    "\n",
    "\n",
    "\n",
    "female_age_bands = [\"F_0_to_4\", \"F_5_to_9\", \"F_10_to_14\", \"F_15_to_19\", \"F_20_to_24\", \"F_25_to_29\", \"F_30_to_34\", \"F_35_to_39\", \"F_40_to_44\", \"F_45_to_49\", \"F_50_to_54\", \"F_55_to_59\", \"F_60_to_64\", \"F_65_to_69\", \"F_70_to_74\", \"F_75_to_79\", \"F_80_to_84\", \"F_85_to_89\", \"F_90_to_94\", \"F_90+\"]\n",
    "\n",
    "male_age_bands = [\"M_0_to_4\", \"M_5_to_9\", \"M_10_to_14\", \"M_15_to_19\", \"M_20_to_24\", \"M_25_to_29\", \"M_30_to_34\", \"M_35_to_39\", \"M_40_to_44\", \"M_45_to_49\", \"M_50_to_54\", \"M_55_to_59\", \"M_60_to_64\", \"M_65_to_69\", \"M_70_to_74\", \"M_75_to_79\", \"M_80_to_84\", \"M_85_to_89\", \"M_90_to_94\", \"M_90+\"]\n",
    "\n",
    "female_age_cols=wdg.SelectMultiple(\n",
    "    options=[\"F_0_to_4\", \"F_5_to_9\", \"F_10_to_14\", \"F_15_to_19\", \"F_20_to_24\", \"F_25_to_29\", \"F_30_to_34\", \"F_35_to_39\", \"F_40_to_44\", \"F_45_to_49\", \"F_50_to_54\", \"F_55_to_59\", \"F_60_to_64\", \"F_65_to_69\", \"F_70_to_74\", \"F_75_to_79\", \"F_80_to_84\", \"F_85_to_89\", \"F_90_to_94\", \"F_90+\"],\n",
    "    value=[\"F_0_to_4\", \"F_5_to_9\", \"F_10_to_14\", \"F_15_to_19\", \"F_20_to_24\", \"F_25_to_29\", \"F_30_to_34\", \"F_35_to_39\", \"F_40_to_44\", \"F_45_to_49\", \"F_50_to_54\", \"F_55_to_59\", \"F_60_to_64\", \"F_65_to_69\", \"F_70_to_74\", \"F_75_to_79\", \"F_80_to_84\", \"F_85_to_89\", \"F_90_to_94\", \"F_90+\"],\n",
    "    rows= 20, # rows of the selection box\n",
    "    description='Female Age Bands',\n",
    "    disabled=False\n",
    ")\n",
    "\n",
    "male_age_cols=wdg.SelectMultiple(\n",
    "    options=[\"M_0_to_4\", \"M_5_to_9\", \"M_10_to_14\", \"M_15_to_19\", \"M_20_to_24\", \"M_25_to_29\", \"M_30_to_34\", \"M_35_to_39\", \"M_40_to_44\", \"M_45_to_49\", \"M_50_to_54\", \"M_55_to_59\", \"M_60_to_64\", \"M_65_to_69\", \"M_70_to_74\", \"M_75_to_79\", \"M_80_to_84\", \"M_85_to_89\", \"M_90_to_94\", \"M_90+\"],\n",
    "    value=[],\n",
    "    rows= 20, # rows of the selection box\n",
    "    description='Male Age Bands',\n",
    "    disabled=False\n",
    ")\n",
    "\n",
    "timeslider=wdg.IntSlider(\n",
    "    value=9,\n",
    "    min=1,\n",
    "    max=12,\n",
    "    step=1,\n",
    "    description='Monthly Intervall',\n",
    "    disabled=False,\n",
    "    continuous_update=False,\n",
    "    orientation='horizontal',\n",
    "    readout=True,\n",
    "    readout_format='d'\n",
    ")\n",
    "\n",
    "controls = wdg.HBox([female_age_cols, male_age_cols, timeslider])\n",
    "\n",
    "def age_graph(femagecols, menagecols, timevalue):\n",
    "\n",
    "    # our callback function.\n",
    "    ncols=len(femagecols)\n",
    "    m_value = str(timeslider.value) + \"m\"\n",
    "\n",
    "\n",
    "    if ncols>0:\n",
    "        death_df_mm = death_df_m.resample(m_value).sum()\n",
    "        death_df_mm.plot(y=list(femagecols + menagecols), kind=\"area\", logy = False, use_index=True, figsize=(20,10)) # graphcolumns is a tuple - we need a list\n",
    "        ax = death_df_m[\"DailyDeaths\"].plot(secondary_y=True, color='k')\n",
    "        ax.set_ylabel('Daily Deaths')\n",
    "\n",
    "    else:\n",
    "        \n",
    "        print(\"Click to select data for graph\")\n",
    "        print(\"(CTRL-Click to select more than one category)\")\n",
    "    \n",
    "  \n",
    "output1=wdg.interactive_output(age_graph, {'femagecols': female_age_cols, \"menagecols\" : male_age_cols, \"timevalue\": timeslider}) # clean up slider names + order\n",
    "\n",
    "display(controls, output1)\n"
   ]
  },
  {
   "cell_type": "markdown",
   "metadata": {},
   "source": [
    "+++ check the final data here +++"
   ]
  }
 ],
 "metadata": {
  "kernelspec": {
   "display_name": "Python 3.9.12 ('base')",
   "language": "python",
   "name": "python3"
  },
  "language_info": {
   "codemirror_mode": {
    "name": "ipython",
    "version": 3
   },
   "file_extension": ".py",
   "mimetype": "text/x-python",
   "name": "python",
   "nbconvert_exporter": "python",
   "pygments_lexer": "ipython3",
   "version": "3.9.12"
  },
  "orig_nbformat": 4,
  "vscode": {
   "interpreter": {
    "hash": "c6609c9133a6db690f016f49050ce97a9a809177a34a79c19b62b14f5faf7a07"
   }
  }
 },
 "nbformat": 4,
 "nbformat_minor": 2
}
