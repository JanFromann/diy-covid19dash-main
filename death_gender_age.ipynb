{
 "cells": [
  {
   "cell_type": "code",
   "execution_count": 1,
   "metadata": {},
   "outputs": [],
   "source": [
    "from uk_covid19 import Cov19API\n",
    "import json\n",
    "import pandas as pd\n",
    "import matplotlib.pyplot as plt\n",
    "import ipywidgets as wdg\n",
    "%matplotlib inline\n",
    "plt.rcParams['figure.dpi'] = 100"
   ]
  },
  {
   "cell_type": "code",
   "execution_count": 2,
   "metadata": {},
   "outputs": [],
   "source": [
    "death_filters = [\n",
    "    'areaType=Overview'\n",
    "]\n",
    "\n",
    "sex_filter = [\n",
    "    'areaType=nation',\n",
    "    'areaName=England', # remember to highlight this\n",
    "]"
   ]
  },
  {
   "cell_type": "code",
   "execution_count": 3,
   "metadata": {},
   "outputs": [],
   "source": [
    "death_structure = {\n",
    "    \"date\": \"date\",\n",
    "    \"deaths\": \"newDailyNsoDeathsByDeathDate\",\n",
    "}\n",
    "\n",
    "sex_structure = {\n",
    "    \"date\": \"date\",\n",
    "    \"femaleCases\": \"femaleCases\",\n",
    "    \"maleCases\": \"maleCases\",\n",
    "}"
   ]
  },
  {
   "cell_type": "code",
   "execution_count": 4,
   "metadata": {},
   "outputs": [],
   "source": [
    "death_api = Cov19API(filters=death_filters, structure=death_structure)\n",
    "death_data = death_api.get_json()\n",
    "\n",
    "sex_api = Cov19API(filters=sex_filter, structure=sex_structure)\n",
    "sex_data=sex_api.get_json()\n",
    "\n",
    "#print(death_data)\n",
    "#print(sex_data)\n",
    "\n",
    "#death_data_lst = death_data[\"data\"]\n",
    "#sex_data_lst = sex_data[\"data\"]\n",
    "\n",
    "#print(death_data_lst)\n"
   ]
  },
  {
   "cell_type": "code",
   "execution_count": 5,
   "metadata": {},
   "outputs": [],
   "source": [
    "# dump into json\n",
    "\n",
    "\n",
    "with open('death_data.json', \"wt\") as OUTF:\n",
    "    json.dump(death_data, OUTF)\n",
    "\n",
    "with open(\"sex_data.json\", \"wt\") as OUTF:\n",
    "    json.dump(sex_data, OUTF)\n"
   ]
  },
  {
   "cell_type": "code",
   "execution_count": 6,
   "metadata": {},
   "outputs": [],
   "source": [
    "with open(\"death_data.json\", \"rt\") as INFILE:\n",
    "    death_data_raw = json.load(INFILE)\n",
    "\n",
    "with open(\"sex_data.json\", \"rt\") as INFILE:\n",
    "    sex_data_raw = json.load(INFILE)   "
   ]
  },
  {
   "cell_type": "code",
   "execution_count": 7,
   "metadata": {},
   "outputs": [
    {
     "name": "stdout",
     "output_type": "stream",
     "text": [
      "DatetimeIndex(['2020-01-30', '2020-01-31', '2020-02-01', '2020-02-02',\n",
      "               '2020-02-03', '2020-02-04', '2020-02-05', '2020-02-06',\n",
      "               '2020-02-07', '2020-02-08',\n",
      "               ...\n",
      "               '2022-11-02', '2022-11-03', '2022-11-04', '2022-11-05',\n",
      "               '2022-11-06', '2022-11-07', '2022-11-08', '2022-11-09',\n",
      "               '2022-11-10', '2022-11-11'],\n",
      "              dtype='datetime64[ns]', length=1017, freq='D')\n"
     ]
    }
   ],
   "source": [
    "# getting the data list\n",
    "\n",
    "death_data = death_data_raw[\"data\"]\n",
    "sex_data = sex_data_raw[\"data\"]\n",
    "\n",
    "\n",
    "\n",
    "# getting the timeseries\n",
    "\n",
    "\n",
    "death_dates_raw =[dictionary['date'] for dictionary in death_data ]\n",
    "\n",
    "\n",
    "\n",
    "death_dates_dic = {date for date in death_dates_raw} # removing duplicates by transforming into a dictionary and back into a sorted list \n",
    "death_dates = list(death_dates_dic)\n",
    "death_dates.sort()\n",
    "\n",
    "\n",
    "#print(death_dates)\n",
    "\n",
    "# gettingn start and end dates\n",
    "\n",
    "\n",
    "def parse_date(datestring):\n",
    "    \"\"\" Convert a date string into a pandas datetime object \"\"\"\n",
    "    return pd.to_datetime(datestring, format=\"%Y-%m-%d\")\n",
    "\n",
    "death_startdate=parse_date(death_dates[0])\n",
    "death_enddate=parse_date(death_dates[-1])\n",
    "\n",
    "death_index_d=pd.date_range(death_startdate, death_enddate, freq='D')\n",
    "print(death_index_d)\n"
   ]
  },
  {
   "cell_type": "code",
   "execution_count": 8,
   "metadata": {},
   "outputs": [
    {
     "name": "stdout",
     "output_type": "stream",
     "text": [
      "85\n",
      "90\n",
      "['0_to_4', '5_to_9', '10_to_14', '15_to_19', '20_to_24', '25_to_29', '30_to_34', '35_to_39', '40_to_44', '45_to_49', '50_to_54', '55_to_59', '60_to_64', '65_to_69', '70_to_74', '75_to_79', '80_to_84', '85_to_89', '90+']\n"
     ]
    }
   ],
   "source": [
    "# getting female / male cases and the age ranges\n",
    "\n",
    "female_cases = [dictionary['femaleCases'] for dictionary in sex_data]\n",
    "male_cases = [dictionary['maleCases'] for dictionary in sex_data]\n",
    "\n",
    "age_bands =[]\n",
    "for item in male_cases:\n",
    "    age_bands += [dictionary['age'] for dictionary in item]\n",
    "\n",
    "age_bands = list(set(age_bands)) # removing duplicates and sorting (how did sorting here actually happen? Im not sure)\n",
    "age_bands.sort()\n",
    "#print(age_bands)\n",
    "\n",
    "\n",
    "def min_age(agerange):\n",
    "    agerange=agerange.replace('+','') # remove the + from 90+\n",
    "    start=agerange.split('_')[0]\n",
    "    return int(start)\n",
    "\n",
    "print(min_age('85_to_89'))\n",
    "print(min_age('90+'))\n",
    "\n",
    "age_bands.sort(key=min_age)\n",
    "print(age_bands)\n",
    "\n",
    "\n",
    "#print(female_cases)"
   ]
  },
  {
   "cell_type": "code",
   "execution_count": 9,
   "metadata": {},
   "outputs": [
    {
     "name": "stdout",
     "output_type": "stream",
     "text": [
      "['0_to_4', '5_to_9', '10_to_14', '15_to_19', '20_to_24', '25_to_29', '30_to_34', '35_to_39', '40_to_44', '45_to_49', '50_to_54', '55_to_59', '60_to_64', '65_to_69', '70_to_74', '75_to_79', '80_to_84', '85_to_89', '90+']\n"
     ]
    }
   ],
   "source": [
    "# Building the dataframe\n",
    "print(age_bands)\n",
    "\n",
    "\n",
    "\n",
    "death_df = pd.DataFrame(index=death_index_d, columns = (\"DailyDeaths\", \"F_0_to_4\", \"F_5_to_9\", \"F_10_to_14\", \"F_15_to_19\", \"F_20_to_24\", \"F_25_to_29\", \"F_30_to_34\", \"F_35_to_39\", \"F_40_to_44\", \"F_45_to_49\", \"F_50_to_54\", \"F_55_to_59\", \"F_60_to_64\", \"F_65_to_69\", \"F_70_to_74\", \"F_75_to_79\", \"F_80_to_84\", \"F_85_to_89\", \"F_90_to_94\", \"F_90+\", \"M_0_to_4\", \"M_5_to_9\", \"M_10_to_14\", \"M_15_to_19\", \"M_20_to_24\", \"M_25_to_29\", \"M_30_to_34\", \"M_35_to_39\", \"M_40_to_44\", \"M_45_to_49\", \"M_50_to_54\", \"M_55_to_59\", \"M_60_to_64\", \"M_65_to_69\", \"M_70_to_74\", \"M_75_to_79\", \"M_80_to_84\", \"M_85_to_89\", \"M_90_to_94\", \"M_90+\"))\n",
    "#print(death_df)\n"
   ]
  },
  {
   "cell_type": "code",
   "execution_count": 10,
   "metadata": {},
   "outputs": [],
   "source": [
    "# filling the data frame\n",
    "\n",
    "## filling in the gender / case / age_range data\n",
    "\n",
    "\n",
    "for dictionary in sex_data:\n",
    "    date=parse_date(dictionary['date'])\n",
    "    #print(dictionary['femaleCases'])\n",
    "    #iterable = dictionary['femaleCases']\n",
    "    for item in dictionary['femaleCases'] :\n",
    "        #print(item['age'])\n",
    "        if item['age'] == '0_to_4':\n",
    "            value= float(item['value']) if item['value'] !=None else 0.0\n",
    "            death_df.loc[date, \"F_0_to_4\"]= value\n",
    "        if item['age'] == '5_to_9':\n",
    "            value= float(item['value']) if item['value'] !=None else 0.0\n",
    "            death_df.loc[date, \"F_5_to_9\"]= value\n",
    "        if item['age'] == '10_to_14':\n",
    "            value= float(item['value']) if item['value'] !=None else 0.0\n",
    "            death_df.loc[date, \"F_10_to_14\"]= value\n",
    "        if item['age'] == '15_to_19':\n",
    "            value= float(item['value']) if item['value'] !=None else 0.0\n",
    "            death_df.loc[date, \"F_15_to_19\"]= value\n",
    "        if item['age'] == '20_to_24':\n",
    "            value= float(item['value']) if item['value'] !=None else 0.0\n",
    "            death_df.loc[date, \"F_20_to_24\"]= value\n",
    "        if item['age'] == '25_to_29':\n",
    "            value= float(item['value']) if item['value'] !=None else 0.0\n",
    "            death_df.loc[date, \"F_25_to_29\"]= value\n",
    "        if item['age'] == '30_to_34':\n",
    "            value= float(item['value']) if item['value'] !=None else 0.0\n",
    "            death_df.loc[date, \"F_30_to_34\"]= value\n",
    "        if item['age'] == '35_to_39':\n",
    "            value= float(item['value']) if item['value'] !=None else 0.0\n",
    "            death_df.loc[date, \"F_35_to_39\"]= value\n",
    "        if item['age'] == '40_to_44':\n",
    "            value= float(item['value']) if item['value'] !=None else 0.0\n",
    "            death_df.loc[date, \"F_40_to_44\"]= value\n",
    "        if item['age'] == '45_to_49':\n",
    "            value= float(item['value']) if item['value'] !=None else 0.0\n",
    "            death_df.loc[date, \"F_45_to_49\"]= value\n",
    "        if item['age'] == '50_to_54':\n",
    "            value= float(item['value']) if item['value'] !=None else 0.0\n",
    "            death_df.loc[date, \"F_50_to_54\"]= value\n",
    "        if item['age'] == '55_to_59':\n",
    "            value= float(item['value']) if item['value'] !=None else 0.0\n",
    "            death_df.loc[date, \"F_55_to_59\"]= value\n",
    "        if item['age'] == '60_to_64':\n",
    "            value= float(item['value']) if item['value'] !=None else 0.0\n",
    "            death_df.loc[date, \"F_60_to_64\"]= value\n",
    "        if item['age'] == '65_to_69':\n",
    "            value= float(item['value']) if item['value'] !=None else 0.0\n",
    "            death_df.loc[date, \"F_65_to_69\"]= value\n",
    "        if item['age'] == '70_to_74':\n",
    "            value= float(item['value']) if item['value'] !=None else 0.0\n",
    "            death_df.loc[date, \"F_70_to_74\"]= value\n",
    "        if item['age'] == '80_to_84':\n",
    "            value= float(item['value']) if item['value'] !=None else 0.0\n",
    "            death_df.loc[date, \"F_80_to_84\"]= value\n",
    "        if item['age'] == '85_to_89':\n",
    "            value= float(item['value']) if item['value'] !=None else 0.0\n",
    "            death_df.loc[date, \"F_85_to_89\"]= value\n",
    "        if item['age'] == '90_to_94':\n",
    "            value= float(item['value']) if item['value'] !=None else 0.0\n",
    "            death_df.loc[date, \"F_90_to_94\"]= value\n",
    "        if item['age'] == '90+':\n",
    "            value= float(item['value']) if item['value'] !=None else 0.0\n",
    "            death_df.loc[date, \"F_90+\"]= value\n",
    "    for item in dictionary['maleCases']:\n",
    "        if item['age'] == '0_to_4':\n",
    "            value= float(item['value']) if item['value'] !=None else 0.0\n",
    "            death_df.loc[date, \"M_0_to_4\"]= value\n",
    "        if item['age'] == '5_to_9':\n",
    "            value= float(item['value']) if item['value'] !=None else 0.0\n",
    "            death_df.loc[date, \"M_5_to_9\"]= value\n",
    "        if item['age'] == '10_to_14':\n",
    "            value= float(item['value']) if item['value'] !=None else 0.0\n",
    "            death_df.loc[date, \"M_10_to_14\"]= value\n",
    "        if item['age'] == '15_to_19':\n",
    "            value= float(item['value']) if item['value'] !=None else 0.0\n",
    "            death_df.loc[date, \"M_15_to_19\"]= value\n",
    "        if item['age'] == '20_to_24':\n",
    "            value= float(item['value']) if item['value'] !=None else 0.0\n",
    "            death_df.loc[date, \"M_20_to_24\"]= value\n",
    "        if item['age'] == '25_to_29':\n",
    "            value= float(item['value']) if item['value'] !=None else 0.0\n",
    "            death_df.loc[date, \"M_25_to_29\"]= value\n",
    "        if item['age'] == '30_to_34':\n",
    "            value= float(item['value']) if item['value'] !=None else 0.0\n",
    "            death_df.loc[date, \"M_30_to_34\"]= value\n",
    "        if item['age'] == '35_to_39':\n",
    "            value= float(item['value']) if item['value'] !=None else 0.0\n",
    "            death_df.loc[date, \"M_35_to_39\"]= value\n",
    "        if item['age'] == '40_to_44':\n",
    "            value= float(item['value']) if item['value'] !=None else 0.0\n",
    "            death_df.loc[date, \"M_40_to_44\"]= value\n",
    "        if item['age'] == '45_to_49':\n",
    "            value= float(item['value']) if item['value'] !=None else 0.0\n",
    "            death_df.loc[date, \"M_45_to_49\"]= value\n",
    "        if item['age'] == '50_to_54':\n",
    "            value= float(item['value']) if item['value'] !=None else 0.0\n",
    "            death_df.loc[date, \"M_50_to_54\"]= value\n",
    "        if item['age'] == '55_to_59':\n",
    "            value= float(item['value']) if item['value'] !=None else 0.0\n",
    "            death_df.loc[date, \"M_55_to_59\"]= value\n",
    "        if item['age'] == '60_to_64':\n",
    "            value= float(item['value']) if item['value'] !=None else 0.0\n",
    "            death_df.loc[date, \"M_60_to_64\"]= value\n",
    "        if item['age'] == '65_to_69':\n",
    "            value= float(item['value']) if item['value'] !=None else 0.0\n",
    "            death_df.loc[date, \"M_65_to_69\"]= value\n",
    "        if item['age'] == '70_to_74':\n",
    "            value= float(item['value']) if item['value'] !=None else 0.0\n",
    "            death_df.loc[date, \"M_70_to_74\"]= value\n",
    "        if item['age'] == '80_to_84':\n",
    "            value= float(item['value']) if item['value'] !=None else 0.0\n",
    "            death_df.loc[date, \"M_80_to_84\"]= value\n",
    "        if item['age'] == '85_to_89':\n",
    "            value= float(item['value']) if item['value'] !=None else 0.0\n",
    "            death_df.loc[date, \"M_85_to_89\"]= value\n",
    "        if item['age'] == '90_to_94':\n",
    "            value= float(item['value']) if item['value'] !=None else 0.0\n",
    "            death_df.loc[date, \"M_90_to_94\"]= value\n",
    "        if item['age'] == '90+':\n",
    "            value= float(item['value']) if item['value'] !=None else 0.0\n",
    "            death_df.loc[date, \"M_90+\"]= value\n",
    "\n",
    "\n",
    "\n",
    "\n",
    "\n",
    "\n",
    "        \n"
   ]
  },
  {
   "cell_type": "code",
   "execution_count": 11,
   "metadata": {},
   "outputs": [],
   "source": [
    "## filling in the daily deaths data\n",
    "\n",
    "for entry in death_data:    # could probably use this method for the gender data to save lines of code... try if I have time\n",
    "    #print(entry[\"deaths\"])\n",
    "\n",
    "    date = parse_date(entry[\"date\"])\n",
    "\n",
    "    if pd.isna(death_df.loc[date, \"DailyDeaths\"]):\n",
    "\n",
    "        value = float(entry[\"deaths\"]) if entry[\"deaths\"] !=None else 0.0\n",
    "\n",
    "        death_df.loc[date, \"DailyDeaths\"] = value\n",
    "\n",
    "\n",
    "death_df.fillna(0.0, inplace=True)"
   ]
  },
  {
   "cell_type": "code",
   "execution_count": 12,
   "metadata": {},
   "outputs": [],
   "source": [
    "death_df_m = death_df.resample('1m').sum() # why is the last bar shorter? in the line chart there is no drop-off ... could be because it avarages for missing data?\n",
    "\n"
   ]
  },
  {
   "cell_type": "code",
   "execution_count": 13,
   "metadata": {},
   "outputs": [
    {
     "data": {
      "application/vnd.jupyter.widget-view+json": {
       "model_id": "8a546e717b9046f2b78af7e676e93967",
       "version_major": 2,
       "version_minor": 0
      },
      "text/plain": [
       "HBox(children=(SelectMultiple(description='Female Age Bands', index=(0, 1, 2, 3, 4, 5, 6, 7, 8, 9, 10, 11, 12,…"
      ]
     },
     "metadata": {},
     "output_type": "display_data"
    },
    {
     "data": {
      "application/vnd.jupyter.widget-view+json": {
       "model_id": "c5e7ff6c0ad5405496cb0b45f5ebffaf",
       "version_major": 2,
       "version_minor": 0
      },
      "text/plain": [
       "Output()"
      ]
     },
     "metadata": {},
     "output_type": "display_data"
    }
   ],
   "source": [
    "# making this interactive\n",
    "\n",
    "\n",
    "\n",
    "# adding a selector for the gender data\n",
    "\n",
    "\n",
    "\n",
    "female_age_bands = [\"F_0_to_4\", \"F_5_to_9\", \"F_10_to_14\", \"F_15_to_19\", \"F_20_to_24\", \"F_25_to_29\", \"F_30_to_34\", \"F_35_to_39\", \"F_40_to_44\", \"F_45_to_49\", \"F_50_to_54\", \"F_55_to_59\", \"F_60_to_64\", \"F_65_to_69\", \"F_70_to_74\", \"F_75_to_79\", \"F_80_to_84\", \"F_85_to_89\", \"F_90_to_94\", \"F_90+\"]\n",
    "\n",
    "male_age_bands = [\"M_0_to_4\", \"M_5_to_9\", \"M_10_to_14\", \"M_15_to_19\", \"M_20_to_24\", \"M_25_to_29\", \"M_30_to_34\", \"M_35_to_39\", \"M_40_to_44\", \"M_45_to_49\", \"M_50_to_54\", \"M_55_to_59\", \"M_60_to_64\", \"M_65_to_69\", \"M_70_to_74\", \"M_75_to_79\", \"M_80_to_84\", \"M_85_to_89\", \"M_90_to_94\", \"M_90+\"]\n",
    "\n",
    "female_age_cols=wdg.SelectMultiple(\n",
    "    options=[\"F_0_to_4\", \"F_5_to_9\", \"F_10_to_14\", \"F_15_to_19\", \"F_20_to_24\", \"F_25_to_29\", \"F_30_to_34\", \"F_35_to_39\", \"F_40_to_44\", \"F_45_to_49\", \"F_50_to_54\", \"F_55_to_59\", \"F_60_to_64\", \"F_65_to_69\", \"F_70_to_74\", \"F_75_to_79\", \"F_80_to_84\", \"F_85_to_89\", \"F_90_to_94\", \"F_90+\"],\n",
    "    value=[\"F_0_to_4\", \"F_5_to_9\", \"F_10_to_14\", \"F_15_to_19\", \"F_20_to_24\", \"F_25_to_29\", \"F_30_to_34\", \"F_35_to_39\", \"F_40_to_44\", \"F_45_to_49\", \"F_50_to_54\", \"F_55_to_59\", \"F_60_to_64\", \"F_65_to_69\", \"F_70_to_74\", \"F_75_to_79\", \"F_80_to_84\", \"F_85_to_89\", \"F_90_to_94\", \"F_90+\"],\n",
    "    rows= 20, # rows of the selection box\n",
    "    description='Female Age Bands',\n",
    "    disabled=False\n",
    ")\n",
    "\n",
    "male_age_cols=wdg.SelectMultiple(\n",
    "    options=[\"M_0_to_4\", \"M_5_to_9\", \"M_10_to_14\", \"M_15_to_19\", \"M_20_to_24\", \"M_25_to_29\", \"M_30_to_34\", \"M_35_to_39\", \"M_40_to_44\", \"M_45_to_49\", \"M_50_to_54\", \"M_55_to_59\", \"M_60_to_64\", \"M_65_to_69\", \"M_70_to_74\", \"M_75_to_79\", \"M_80_to_84\", \"M_85_to_89\", \"M_90_to_94\", \"M_90+\"],\n",
    "    value=[],\n",
    "    rows= 20, # rows of the selection box\n",
    "    description='Male Age Bands',\n",
    "    disabled=False\n",
    ")\n",
    "\n",
    "timeslider=wdg.IntSlider(\n",
    "    value=9,\n",
    "    min=1,\n",
    "    max=12,\n",
    "    step=1,\n",
    "    description='Monthly Intervall',\n",
    "    disabled=False,\n",
    "    continuous_update=False,\n",
    "    orientation='horizontal',\n",
    "    readout=True,\n",
    "    readout_format='d'\n",
    ")\n",
    "\n",
    "controls = wdg.HBox([female_age_cols, male_age_cols, timeslider])\n",
    "\n",
    "def age_graph(femagecols, menagecols, timevalue):\n",
    "\n",
    "    # our callback function.\n",
    "    ncols=len(femagecols)\n",
    "    m_value = str(timeslider.value) + \"m\"\n",
    "\n",
    "\n",
    "    if ncols>0:\n",
    "        death_df_mm = death_df_m.resample(m_value).sum()\n",
    "        death_df_mm.plot(y=list(femagecols + menagecols), kind=\"area\", logy = False, use_index=True, figsize=(20,10)) # graphcolumns is a tuple - we need a list\n",
    "        ax = death_df_m[\"DailyDeaths\"].plot(secondary_y=True, color='k')\n",
    "        ax.set_ylabel('Daily Deaths')\n",
    "\n",
    "    else:\n",
    "        \n",
    "        print(\"Click to select data for graph\")\n",
    "        print(\"(CTRL-Click to select more than one category)\")\n",
    "    \n",
    "  \n",
    "output1=wdg.interactive_output(age_graph, {'femagecols': female_age_cols, \"menagecols\" : male_age_cols, \"timevalue\": timeslider}) # clean up slider names + order\n",
    "\n",
    "display(controls, output1)\n"
   ]
  },
  {
   "cell_type": "markdown",
   "metadata": {},
   "source": [
    "+++ check the final data here +++"
   ]
  }
 ],
 "metadata": {
  "kernelspec": {
   "display_name": "Python 3.9.12 ('base')",
   "language": "python",
   "name": "python3"
  },
  "language_info": {
   "codemirror_mode": {
    "name": "ipython",
    "version": 3
   },
   "file_extension": ".py",
   "mimetype": "text/x-python",
   "name": "python",
   "nbconvert_exporter": "python",
   "pygments_lexer": "ipython3",
   "version": "3.9.12"
  },
  "orig_nbformat": 4,
  "vscode": {
   "interpreter": {
    "hash": "c6609c9133a6db690f016f49050ce97a9a809177a34a79c19b62b14f5faf7a07"
   }
  }
 },
 "nbformat": 4,
 "nbformat_minor": 2
}
